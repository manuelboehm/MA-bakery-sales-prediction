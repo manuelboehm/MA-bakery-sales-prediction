{
 "cells": [
  {
   "cell_type": "markdown",
   "metadata": {},
   "source": [
    "# Initial Model (Test)\n",
    "## Divide Dataset"
   ]
  },
  {
   "cell_type": "code",
   "execution_count": 32,
   "metadata": {},
   "outputs": [],
   "source": [
    "import pandas as pd\n",
    "\n",
    "# read data as df (df_merged_umsatz_kiwo01_wetter_wochentage.csv) in 1_DatasetCharacteristics\n",
    "df = pd.read_csv('/workspaces/MA-bakery-sales-prediction/_data_prepared/df_umsatz_kiwo_wochentage_wetter_clean.csv')\n",
    "\n",
    "# Deviding the data into training and test data\n",
    "# df_training: alle Daten bis ...\n",
    "# df_test: alle Daten ab ...\n"
   ]
  },
  {
   "cell_type": "markdown",
   "metadata": {},
   "source": [
    "## Building the Model"
   ]
  },
  {
   "cell_type": "code",
   "execution_count": null,
   "metadata": {},
   "outputs": [
    {
     "name": "stdout",
     "output_type": "stream",
     "text": [
      "                            OLS Regression Results                            \n",
      "==============================================================================\n",
      "Dep. Variable:                 Umsatz   R-squared:                       0.117\n",
      "Model:                            OLS   Adj. R-squared:                  0.116\n",
      "Method:                 Least Squares   F-statistic:                     87.69\n",
      "Date:                Tue, 03 Dec 2024   Prob (F-statistic):          1.68e-237\n",
      "Time:                        13:33:17   Log-Likelihood:                -58654.\n",
      "No. Observations:                9264   AIC:                         1.173e+05\n",
      "Df Residuals:                    9249   BIC:                         1.174e+05\n",
      "Df Model:                          14                                         \n",
      "Covariance Type:            nonrobust                                         \n",
      "==================================================================================================================\n",
      "                                                     coef    std err          t      P>|t|      [0.025      0.975]\n",
      "------------------------------------------------------------------------------------------------------------------\n",
      "Intercept                                        239.4175      4.792     49.967      0.000     230.025     248.810\n",
      "Warengruppe_grouped_2[T.True]                    -45.5860      2.936    -15.529      0.000     -51.340     -39.832\n",
      "Warengruppe_grouped_3[T.True]                   -138.7952      8.400    -16.523      0.000    -155.261    -122.329\n",
      "temp_bins_mild[T.True]                            38.7265      3.199     12.107      0.000      32.457      44.996\n",
      "temp_bins_warm[T.True]                            75.7312      4.453     17.007      0.000      67.003      84.460\n",
      "temp_bins_heiß[T.True]                           114.6829     43.209      2.654      0.008      29.983     199.383\n",
      "bewoelkt_bins_bewoelkt_1mäßig_3_5[T.True]          7.8172      3.425      2.282      0.022       1.104      14.531\n",
      "Wettercode_cat_effect_1_OPTIMAL[T.True]        -2.152e-14   4.23e-15     -5.086      0.000   -2.98e-14   -1.32e-14\n",
      "Wettercode_cat_effect_beeinträchtigend[T.True]    -1.4222      3.014     -0.472      0.637      -7.330       4.486\n",
      "KielerWoche                                       19.6406      9.345      2.102      0.036       1.322      37.960\n",
      "Wochentag_Mo                                     -51.5600      5.299     -9.731      0.000     -61.946     -41.174\n",
      "Wochentag_Di                                     -58.8976      5.278    -11.158      0.000     -69.244     -48.551\n",
      "Wochentag_Mi                                     -59.6055      5.287    -11.274      0.000     -69.969     -49.242\n",
      "Wochentag_Do                                     -53.7434      5.289    -10.162      0.000     -64.110     -43.377\n",
      "Wochentag_Fr                                     -50.5419      5.313     -9.512      0.000     -60.957     -40.126\n",
      "Wochentag_Sa                                      -4.9482      5.281     -0.937      0.349     -15.300       5.404\n",
      "==============================================================================\n",
      "Omnibus:                     3913.593   Durbin-Watson:                   0.313\n",
      "Prob(Omnibus):                  0.000   Jarque-Bera (JB):            45452.626\n",
      "Skew:                           1.705   Prob(JB):                         0.00\n",
      "Kurtosis:                      13.302   Cond. No.                     7.98e+16\n",
      "==============================================================================\n",
      "\n",
      "Notes:\n",
      "[1] Standard Errors assume that the covariance matrix of the errors is correctly specified.\n",
      "[2] The smallest eigenvalue is 2.73e-30. This might indicate that there are\n",
      "strong multicollinearity problems or that the design matrix is singular.\n"
     ]
    }
   ],
   "source": [
    "# Import necessary libraries\n",
    "import pandas as pd  # For data manipulation and handling\n",
    "import statsmodels.formula.api as smf  # For statistical modeling\n",
    "\n",
    "\n",
    "# Fit a linear regression model\n",
    "# - 'umsatz' is the dependent variable (target) we aim to predict.\n",
    "# - 'x' represents other variables.\n",
    "# - 'C(condition)' treats the 'condition' feature as a categorical variable.\n",
    "mod = smf.ols('Umsatz ~ KielerWoche + Wochentag_Mo + Wochentag_Di + Wochentag_Mi + Wochentag_Do + Wochentag_Fr + Wochentag_Sa + Warengruppe_grouped_2 + Warengruppe_grouped_3 + temp_bins_mild + temp_bins_warm + temp_bins_heiß + bewoelkt_bins_bewoelkt_1mäßig_3_5 + Wettercode_cat_effect_1_OPTIMAL', data=df).fit()\n",
    "\n",
    "# Output the summary of the fitted model\n",
    "# The summary includes key metrics such as R-squared, coefficients, and p-values.\n",
    "print(mod.summary())"
   ]
  }
 ],
 "metadata": {
  "kernelspec": {
   "display_name": "Python 3",
   "language": "python",
   "name": "python3"
  },
  "language_info": {
   "codemirror_mode": {
    "name": "ipython",
    "version": 3
   },
   "file_extension": ".py",
   "mimetype": "text/x-python",
   "name": "python",
   "nbconvert_exporter": "python",
   "pygments_lexer": "ipython3",
   "version": "3.12.1"
  }
 },
 "nbformat": 4,
 "nbformat_minor": 2
}
