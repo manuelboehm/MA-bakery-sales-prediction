{
 "cells": [
  {
   "cell_type": "markdown",
   "metadata": {},
   "source": [
    "# Initial Model (Test)\n",
    "## Divide Dataset"
   ]
  },
  {
   "cell_type": "code",
   "execution_count": 24,
   "metadata": {},
   "outputs": [],
   "source": [
    "import pandas as pd\n",
    "\n",
    "# read data as df (df_merged_umsatz_kiwo01_wetter_wochentage.csv) in 1_DatasetCharacteristics\n",
    "df = pd.read_csv('/workspaces/MA-bakery-sales-prediction/_data_prepared/df_umsatz_kiwo_wochentage_wetter_clean.csv')\n",
    "\n",
    "# Deviding the data into training and test data\n",
    "# df_training: alle Daten bis ...\n",
    "# df_test: alle Daten ab ...\n"
   ]
  },
  {
   "cell_type": "markdown",
   "metadata": {},
   "source": [
    "## Building the Model"
   ]
  },
  {
   "cell_type": "code",
   "execution_count": 27,
   "metadata": {},
   "outputs": [
    {
     "name": "stdout",
     "output_type": "stream",
     "text": [
      "                            OLS Regression Results                            \n",
      "==============================================================================\n",
      "Dep. Variable:                 Umsatz   R-squared:                       0.076\n",
      "Model:                            OLS   Adj. R-squared:                  0.075\n",
      "Method:                 Least Squares   F-statistic:                     84.60\n",
      "Date:                Tue, 03 Dec 2024   Prob (F-statistic):          9.27e-152\n",
      "Time:                        00:26:37   Log-Likelihood:                -58865.\n",
      "No. Observations:                9264   AIC:                         1.178e+05\n",
      "Df Residuals:                    9254   BIC:                         1.178e+05\n",
      "Df Model:                           9                                         \n",
      "Covariance Type:            nonrobust                                         \n",
      "=============================================================================================================\n",
      "                                                coef    std err          t      P>|t|      [0.025      0.975]\n",
      "-------------------------------------------------------------------------------------------------------------\n",
      "Intercept                                   169.4612      8.572     19.769      0.000     152.658     186.264\n",
      "temp_bins_kalt[T.True]                        3.7481      7.819      0.479      0.632     -11.580      19.076\n",
      "temp_bins_mild[T.True]                       47.4864      7.809      6.081      0.000      32.180      62.793\n",
      "temp_bins_warm[T.True]                       86.4385      8.505     10.163      0.000      69.767     103.110\n",
      "temp_bins_heiß[T.True]                      125.7565     44.695      2.814      0.005      38.145     213.368\n",
      "bewoelkt_bins_bewoelkt_1mäßig_3_5[T.True]     8.9386      4.273      2.092      0.036       0.563      17.314\n",
      "bewoelkt_bins_bewoelkt_2stark_6_8[T.True]     1.0908      3.857      0.283      0.777      -6.470       8.651\n",
      "KielerWoche                                  20.3870      9.570      2.130      0.033       1.627      39.147\n",
      "Wochenende                                   52.4622      3.205     16.369      0.000      46.180      58.745\n",
      "Warengruppe                                  -4.8774      0.974     -5.009      0.000      -6.786      -2.969\n",
      "==============================================================================\n",
      "Omnibus:                     3781.324   Durbin-Watson:                   0.304\n",
      "Prob(Omnibus):                  0.000   Jarque-Bera (JB):            37763.733\n",
      "Skew:                           1.680   Prob(JB):                         0.00\n",
      "Kurtosis:                      12.303   Cond. No.                         113.\n",
      "==============================================================================\n",
      "\n",
      "Notes:\n",
      "[1] Standard Errors assume that the covariance matrix of the errors is correctly specified.\n"
     ]
    }
   ],
   "source": [
    "# Import necessary libraries\n",
    "import pandas as pd  # For data manipulation and handling\n",
    "import statsmodels.formula.api as smf  # For statistical modeling\n",
    "\n",
    "\n",
    "# Fit a linear regression model\n",
    "# - 'umsatz' is the dependent variable (target) we aim to predict.\n",
    "# - 'x' represents other variables.\n",
    "# - 'C(condition)' treats the 'condition' feature as a categorical variable.\n",
    "mod = smf.ols('Umsatz ~ KielerWoche + Wochenende + Warengruppe + temp_bins_kalt + temp_bins_mild + temp_bins_warm + temp_bins_heiß + bewoelkt_bins_bewoelkt_1mäßig_3_5 + bewoelkt_bins_bewoelkt_2stark_6_8', data=df).fit()\n",
    "\n",
    "# Output the summary of the fitted model\n",
    "# The summary includes key metrics such as R-squared, coefficients, and p-values.\n",
    "print(mod.summary())"
   ]
  }
 ],
 "metadata": {
  "kernelspec": {
   "display_name": "Python 3",
   "language": "python",
   "name": "python3"
  },
  "language_info": {
   "codemirror_mode": {
    "name": "ipython",
    "version": 3
   },
   "file_extension": ".py",
   "mimetype": "text/x-python",
   "name": "python",
   "nbconvert_exporter": "python",
   "pygments_lexer": "ipython3",
   "version": "3.12.1"
  }
 },
 "nbformat": 4,
 "nbformat_minor": 2
}
