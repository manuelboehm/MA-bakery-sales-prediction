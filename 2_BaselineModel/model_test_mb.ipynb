{
 "cells": [
  {
   "cell_type": "markdown",
   "metadata": {},
   "source": [
    "# Initial Model (Test)\n",
    "## Divide Dataset"
   ]
  },
  {
   "cell_type": "code",
   "execution_count": 3,
   "metadata": {},
   "outputs": [],
   "source": [
    "import pandas as pd\n",
    "\n",
    "# read data as df (df_merged_umsatz_kiwo01_wetter_wochentage.csv) in 1_DatasetCharacteristics\n",
    "df = pd.read_csv('/workspaces/MA-bakery-sales-prediction/_data_prepared/df_umsatz_kiwo_wochentage_wetter_clean.csv')\n",
    "\n",
    "# Den Datensatz df teilen in Trainingsdatensatz and Validierungsdatensatz\n",
    "# df_training: alle Daten bis 31.07.2017\n",
    "# df_test: alle Daten vom 01.08.2017 bis 31.07.2018\n",
    "df_training = df[df['Datum'] < '2017-08-01']\n",
    "df_test = df[(df['Datum'] >= '2017-08-01') & (df['Datum'] <= '2018-07-31')]\n",
    "\n",
    "# save df_training and df_test as csv files\n",
    "df_training.to_csv('/workspaces/MA-bakery-sales-prediction/_data_prepared/df_training.csv', index=False)\n",
    "df_test.to_csv('/workspaces/MA-bakery-sales-prediction/_data_prepared/df_test.csv', index=False)\n",
    "\n"
   ]
  },
  {
   "cell_type": "markdown",
   "metadata": {},
   "source": [
    "## Building the Model"
   ]
  },
  {
   "cell_type": "code",
   "execution_count": 4,
   "metadata": {},
   "outputs": [
    {
     "name": "stdout",
     "output_type": "stream",
     "text": [
      "                            OLS Regression Results                            \n",
      "==============================================================================\n",
      "Dep. Variable:                 Umsatz   R-squared:                       0.114\n",
      "Model:                            OLS   Adj. R-squared:                  0.112\n",
      "Method:                 Least Squares   F-statistic:                     73.63\n",
      "Date:                Tue, 03 Dec 2024   Prob (F-statistic):          2.71e-184\n",
      "Time:                        14:59:16   Log-Likelihood:                -47574.\n",
      "No. Observations:                7487   AIC:                         9.518e+04\n",
      "Df Residuals:                    7473   BIC:                         9.527e+04\n",
      "Df Model:                          13                                         \n",
      "Covariance Type:            nonrobust                                         \n",
      "=============================================================================================================\n",
      "                                                coef    std err          t      P>|t|      [0.025      0.975]\n",
      "-------------------------------------------------------------------------------------------------------------\n",
      "Intercept                                   240.2919      4.955     48.494      0.000     230.579     250.005\n",
      "Warengruppe_grouped_2[T.True]               -45.5936      3.344    -13.634      0.000     -52.149     -39.038\n",
      "Warengruppe_grouped_3[T.True]              -143.5538      9.416    -15.246      0.000    -162.011    -125.096\n",
      "temp_bins_mild[T.True]                       38.1626      3.536     10.791      0.000      31.230      45.095\n",
      "temp_bins_warm[T.True]                       76.3429      5.012     15.233      0.000      66.518      86.167\n",
      "temp_bins_heiß[T.True]                      135.6875     62.458      2.172      0.030      13.253     258.122\n",
      "bewoelkt_bins_bewoelkt_1mäßig_3_5[T.True]     9.4735      3.819      2.480      0.013       1.987      16.960\n",
      "Wettercode_cat_effect_1_OPTIMAL[T.True]    7.234e-14   4.43e-14      1.634      0.102   -1.45e-14    1.59e-13\n",
      "KielerWoche                                  16.1052     10.687      1.507      0.132      -4.844      37.054\n",
      "Wochentag_Mo                                -50.2862      6.021     -8.352      0.000     -62.089     -38.484\n",
      "Wochentag_Di                                -58.1323      6.003     -9.684      0.000     -69.899     -46.365\n",
      "Wochentag_Mi                                -57.4046      6.023     -9.531      0.000     -69.211     -45.598\n",
      "Wochentag_Do                                -52.3553      6.032     -8.679      0.000     -64.180     -40.531\n",
      "Wochentag_Fr                                -50.3270      6.068     -8.293      0.000     -62.223     -38.431\n",
      "Wochentag_Sa                                 -3.3987      6.028     -0.564      0.573     -15.215       8.418\n",
      "==============================================================================\n",
      "Omnibus:                     3226.744   Durbin-Watson:                   0.318\n",
      "Prob(Omnibus):                  0.000   Jarque-Bera (JB):            38906.965\n",
      "Skew:                           1.733   Prob(JB):                         0.00\n",
      "Kurtosis:                      13.616   Cond. No.                     1.68e+17\n",
      "==============================================================================\n",
      "\n",
      "Notes:\n",
      "[1] Standard Errors assume that the covariance matrix of the errors is correctly specified.\n",
      "[2] The smallest eigenvalue is 4.25e-31. This might indicate that there are\n",
      "strong multicollinearity problems or that the design matrix is singular.\n"
     ]
    }
   ],
   "source": [
    "# Import necessary libraries\n",
    "import pandas as pd  # For data manipulation and handling\n",
    "import statsmodels.formula.api as smf  # For statistical modeling\n",
    "\n",
    "\n",
    "# Fit a linear regression model\n",
    "# - 'umsatz' is the dependent variable (target) we aim to predict.\n",
    "# - 'x' represents other variables.\n",
    "# - 'C(condition)' treats the 'condition' feature as a categorical variable.\n",
    "mod = smf.ols('Umsatz ~ KielerWoche + Wochentag_Mo + Wochentag_Di + Wochentag_Mi + Wochentag_Do + Wochentag_Fr + Wochentag_Sa + Warengruppe_grouped_2 + Warengruppe_grouped_3 + temp_bins_mild + temp_bins_warm + temp_bins_heiß + bewoelkt_bins_bewoelkt_1mäßig_3_5 + Wettercode_cat_effect_1_OPTIMAL', data=df_training).fit()\n",
    "\n",
    "# Output the summary of the fitted model\n",
    "# The summary includes key metrics such as R-squared, coefficients, and p-values.\n",
    "print(mod.summary())"
   ]
  }
 ],
 "metadata": {
  "kernelspec": {
   "display_name": "Python 3",
   "language": "python",
   "name": "python3"
  },
  "language_info": {
   "codemirror_mode": {
    "name": "ipython",
    "version": 3
   },
   "file_extension": ".py",
   "mimetype": "text/x-python",
   "name": "python",
   "nbconvert_exporter": "python",
   "pygments_lexer": "ipython3",
   "version": "3.12.1"
  }
 },
 "nbformat": 4,
 "nbformat_minor": 2
}
