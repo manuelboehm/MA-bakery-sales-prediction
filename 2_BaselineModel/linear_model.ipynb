{
 "cells": [
  {
   "cell_type": "markdown",
   "metadata": {},
   "source": [
    "# Initial Model (Test)\n",
    "# Preparation (importing libraries, import data)"
   ]
  },
  {
   "cell_type": "code",
   "execution_count": 4,
   "metadata": {},
   "outputs": [],
   "source": [
    "# Import necessary libraries\n",
    "import pandas as pd  # For data manipulation and handling\n",
    "import statsmodels.formula.api as smf  # For statistical modeling\n",
    "\n",
    "# read data as df (df_dataset_complete.csv) in _data_prepared\n",
    "df_training = pd.read_csv('/workspaces/MA-bakery-sales-prediction/_data_prepared/df_training.csv')"
   ]
  },
  {
   "cell_type": "markdown",
   "metadata": {},
   "source": [
    "## Building the Linear Model"
   ]
  },
  {
   "cell_type": "code",
   "execution_count": 5,
   "metadata": {},
   "outputs": [
    {
     "name": "stdout",
     "output_type": "stream",
     "text": [
      "                            OLS Regression Results                            \n",
      "==============================================================================\n",
      "Dep. Variable:                 Umsatz   R-squared:                       0.713\n",
      "Model:                            OLS   Adj. R-squared:                  0.713\n",
      "Method:                 Least Squares   F-statistic:                     929.1\n",
      "Date:                Wed, 18 Dec 2024   Prob (F-statistic):               0.00\n",
      "Time:                        06:24:32   Log-Likelihood:                -43348.\n",
      "No. Observations:                7487   AIC:                         8.674e+04\n",
      "Df Residuals:                    7466   BIC:                         8.688e+04\n",
      "Df Model:                          20                                         \n",
      "Covariance Type:            nonrobust                                         \n",
      "====================================================================================\n",
      "                       coef    std err          t      P>|t|      [0.025      0.975]\n",
      "------------------------------------------------------------------------------------\n",
      "Intercept          116.6305      5.721     20.385      0.000     105.415     127.846\n",
      "Brot               -52.5149      2.230    -23.551      0.000     -56.886     -48.144\n",
      "Broetchen          236.6490      2.230    106.127      0.000     232.278     241.020\n",
      "Croissant           -9.7586      2.230     -4.376      0.000     -14.130      -5.387\n",
      "Konditorei         -85.6149      2.253    -37.995      0.000     -90.032     -81.198\n",
      "Kuchen             107.0086      2.230     47.989      0.000     102.637     111.380\n",
      "Saisonbrot         -79.1387      4.743    -16.685      0.000     -88.436     -69.841\n",
      "national_holiday    32.6247      7.132      4.574      0.000      18.643      46.606\n",
      "christmas_market   -17.7146      3.404     -5.204      0.000     -24.387     -11.042\n",
      "KielerWoche         17.3441      6.077      2.854      0.004       5.431      29.257\n",
      "temp_bins_kalt       8.1870      5.129      1.596      0.110      -1.867      18.240\n",
      "temp_bins_mild      42.5746      5.126      8.306      0.000      32.527      52.623\n",
      "temp_bins_warm      80.3352      5.511     14.577      0.000      69.532      91.139\n",
      "temp_bins_heiß     141.6179     35.865      3.949      0.000      71.313     211.922\n",
      "wind_bins_Wind       9.0742      4.511      2.012      0.044       0.232      17.916\n",
      "wind_bins_Sturm     13.1965      4.265      3.094      0.002       4.836      21.557\n",
      "Wochentag_Di        -6.5044      3.420     -1.902      0.057     -13.208       0.199\n",
      "Wochentag_Mi        -5.7708      3.434     -1.681      0.093     -12.502       0.960\n",
      "Wochentag_Do        -0.5832      3.431     -0.170      0.865      -7.309       6.143\n",
      "Wochentag_Fr         0.9385      3.455      0.272      0.786      -5.834       7.711\n",
      "Wochentag_Sa        48.4608      3.435     14.106      0.000      41.726      55.195\n",
      "Wochentag_So        52.0080      3.438     15.129      0.000      45.269      58.747\n",
      "==============================================================================\n",
      "Omnibus:                     7777.988   Durbin-Watson:                   1.656\n",
      "Prob(Omnibus):                  0.000   Jarque-Bera (JB):          1879572.486\n",
      "Skew:                           4.676   Prob(JB):                         0.00\n",
      "Kurtosis:                      80.056   Cond. No.                     2.42e+15\n",
      "==============================================================================\n",
      "\n",
      "Notes:\n",
      "[1] Standard Errors assume that the covariance matrix of the errors is correctly specified.\n",
      "[2] The smallest eigenvalue is 2.9e-27. This might indicate that there are\n",
      "strong multicollinearity problems or that the design matrix is singular.\n"
     ]
    }
   ],
   "source": [
    "# Fit a linear regression model\n",
    "# - 'umsatz' is the dependent variable (target) we aim to predict.\n",
    "# - 'x' represents other variables.\n",
    "# - 'C(condition)' treats the 'condition' feature as a categorical variable.\n",
    "# mod = smf.ols('Umsatz ~ Brot + Broetchen + Croissant + Konditorei + Kuchen + Saisonbrot + national_holiday + christmas_market + KielerWoche + temp_bins_kalt + temp_bins_mild + temp_bins_warm + temp_bins_heiß + wind_bins_Wind + wind_bins_Sturm + Wettercode_2_leichter_niederschlag + Wettercode_3_starker_niederschlag + Wettercode_4_gewitter + Wochentag_Di + Wochentag_Mi + Wochentag_Do + Wochentag_Fr + Wochentag_Sa + Wochentag_So', data=df_training).fit()\n",
    "mod = smf.ols('Umsatz ~ Brot + Broetchen + Croissant + Konditorei + Kuchen + Saisonbrot + national_holiday + christmas_market + KielerWoche + temp_bins_kalt + temp_bins_mild + temp_bins_warm + temp_bins_heiß + wind_bins_Wind + wind_bins_Sturm + Wochentag_Di + Wochentag_Mi + Wochentag_Do + Wochentag_Fr + Wochentag_Sa + Wochentag_So', data=df_training).fit()\n",
    "# Output the summary of the fitted model\n",
    "# The summary includes key metrics such as R-squared, coefficients, and p-values.\n",
    "print(mod.summary())"
   ]
  },
  {
   "cell_type": "markdown",
   "metadata": {},
   "source": [
    "## Create Predictions"
   ]
  },
  {
   "cell_type": "code",
   "execution_count": 6,
   "metadata": {},
   "outputs": [],
   "source": [
    "# prediction of Umsatz for df_test using the baseline model, save the predictions in the column 'Umsatz' in df_test\n",
    "import pandas as pd\n",
    "\n",
    "# Load the dataset\n",
    "df_test = pd.read_csv('../_data_prepared/df_test.csv')\n",
    "\n",
    "# Calculate the Umsatz using the baseline model using mod.predict\n",
    "# mod is the baseline model\n",
    "\n",
    "df_test['Umsatz'] = mod.predict(df_test)\n",
    "\n",
    "# Save the predictions in a CSV file\n",
    "df_test.to_csv('../_data_prepared/df_predictions_linearModel.csv', index=False)\n",
    "\n"
   ]
  },
  {
   "cell_type": "markdown",
   "metadata": {},
   "source": [
    "## Prepare Kaggle-Upload"
   ]
  },
  {
   "cell_type": "code",
   "execution_count": 7,
   "metadata": {},
   "outputs": [],
   "source": [
    "# load df_test_v2 as a dataframe\n",
    "import pandas as pd\n",
    "\n",
    "df = pd.read_csv('../_data_prepared/df_predictions_linearModel.csv')\n",
    "df.head()\n",
    "\n",
    "# ersetze alle NaN Werte in column Umsatz durch 0\n",
    "df['Umsatz'] = df['Umsatz'].fillna(0)\n",
    "df.head()\n",
    "\n",
    "# delete all columns except for Umsatz and id\n",
    "kaggle_upload = df[['id', 'Umsatz']]\n",
    "kaggle_upload.head()\n",
    "\n",
    "#  save the dataframe as df_prediction.csv\n",
    "kaggle_upload.to_csv('../_data_prepared/df_kaggle_upload_linearModel.csv', index=False)\n"
   ]
  }
 ],
 "metadata": {
  "kernelspec": {
   "display_name": "Python 3",
   "language": "python",
   "name": "python3"
  },
  "language_info": {
   "codemirror_mode": {
    "name": "ipython",
    "version": 3
   },
   "file_extension": ".py",
   "mimetype": "text/x-python",
   "name": "python",
   "nbconvert_exporter": "python",
   "pygments_lexer": "ipython3",
   "version": "3.12.1"
  }
 },
 "nbformat": 4,
 "nbformat_minor": 2
}
