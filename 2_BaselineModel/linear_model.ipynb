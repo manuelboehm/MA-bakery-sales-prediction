{
 "cells": [
  {
   "cell_type": "markdown",
   "metadata": {},
   "source": [
    "# Initial Model (Test)\n",
    "# Preparation (importing libraries, import data)"
   ]
  },
  {
   "cell_type": "code",
   "execution_count": 2,
   "metadata": {},
   "outputs": [
    {
     "name": "stdout",
     "output_type": "stream",
     "text": [
      "Collecting statsmodels\n",
      "  Downloading statsmodels-0.14.4-cp312-cp312-manylinux_2_17_x86_64.manylinux2014_x86_64.whl.metadata (9.2 kB)\n",
      "Requirement already satisfied: numpy<3,>=1.22.3 in /usr/local/python/3.12.1/lib/python3.12/site-packages (from statsmodels) (1.26.0)\n",
      "Requirement already satisfied: scipy!=1.9.2,>=1.8 in /home/codespace/.local/lib/python3.12/site-packages (from statsmodels) (1.14.1)\n",
      "Requirement already satisfied: pandas!=2.1.0,>=1.4 in /home/codespace/.local/lib/python3.12/site-packages (from statsmodels) (2.2.3)\n",
      "Collecting patsy>=0.5.6 (from statsmodels)\n",
      "  Downloading patsy-1.0.1-py2.py3-none-any.whl.metadata (3.3 kB)\n",
      "Requirement already satisfied: packaging>=21.3 in /home/codespace/.local/lib/python3.12/site-packages (from statsmodels) (24.1)\n",
      "Requirement already satisfied: python-dateutil>=2.8.2 in /home/codespace/.local/lib/python3.12/site-packages (from pandas!=2.1.0,>=1.4->statsmodels) (2.9.0.post0)\n",
      "Requirement already satisfied: pytz>=2020.1 in /home/codespace/.local/lib/python3.12/site-packages (from pandas!=2.1.0,>=1.4->statsmodels) (2024.2)\n",
      "Requirement already satisfied: tzdata>=2022.7 in /home/codespace/.local/lib/python3.12/site-packages (from pandas!=2.1.0,>=1.4->statsmodels) (2024.2)\n",
      "Requirement already satisfied: six>=1.5 in /home/codespace/.local/lib/python3.12/site-packages (from python-dateutil>=2.8.2->pandas!=2.1.0,>=1.4->statsmodels) (1.16.0)\n",
      "Downloading statsmodels-0.14.4-cp312-cp312-manylinux_2_17_x86_64.manylinux2014_x86_64.whl (10.7 MB)\n",
      "\u001b[2K   \u001b[90m━━━━━━━━━━━━━━━━━━━━━━━━━━━━━━━━━━━━━━━━\u001b[0m \u001b[32m10.7/10.7 MB\u001b[0m \u001b[31m38.6 MB/s\u001b[0m eta \u001b[36m0:00:00\u001b[0m00:01\u001b[0m\n",
      "\u001b[?25hDownloading patsy-1.0.1-py2.py3-none-any.whl (232 kB)\n",
      "Installing collected packages: patsy, statsmodels\n",
      "Successfully installed patsy-1.0.1 statsmodels-0.14.4\n"
     ]
    }
   ],
   "source": [
    "!pip install statsmodels\n",
    "# Import necessary libraries\n",
    "import pandas as pd  # For data manipulation and handling\n",
    "import statsmodels.formula.api as smf  # For statistical modeling\n",
    "\n",
    "# read data as df (df_dataset_complete.csv) in _data_prepared\n",
    "df_training = pd.read_csv('/workspaces/MA-bakery-sales-prediction/_data_prepared/df_training_neural_network.csv')"
   ]
  },
  {
   "cell_type": "markdown",
   "metadata": {},
   "source": [
    "## Building the Linear Model"
   ]
  },
  {
   "cell_type": "code",
   "execution_count": 5,
   "metadata": {},
   "outputs": [
    {
     "name": "stdout",
     "output_type": "stream",
     "text": [
      "                            OLS Regression Results                            \n",
      "==============================================================================\n",
      "Dep. Variable:                 Umsatz   R-squared:                       0.741\n",
      "Model:                            OLS   Adj. R-squared:                  0.740\n",
      "Method:                 Least Squares   F-statistic:                     737.4\n",
      "Date:                Tue, 07 Jan 2025   Prob (F-statistic):               0.00\n",
      "Time:                        12:27:44   Log-Likelihood:                -42962.\n",
      "No. Observations:                7487   AIC:                         8.598e+04\n",
      "Df Residuals:                    7457   BIC:                         8.619e+04\n",
      "Df Model:                          29                                         \n",
      "Covariance Type:            nonrobust                                         \n",
      "====================================================================================\n",
      "                       coef    std err          t      P>|t|      [0.025      0.975]\n",
      "------------------------------------------------------------------------------------\n",
      "Intercept           38.0192      7.577      5.018      0.000      23.167      52.872\n",
      "Brot                23.4116      5.606      4.176      0.000      12.422      34.402\n",
      "Broetchen          312.5755      5.606     55.753      0.000     301.585     323.566\n",
      "Croissant           66.1679      5.606     11.802      0.000      55.178      77.158\n",
      "Konditorei          -9.4631      5.625     -1.682      0.093     -20.490       1.564\n",
      "Kuchen             182.9351      5.606     32.630      0.000     171.945     193.925\n",
      "Monat_2             20.8792      4.492      4.648      0.000      12.074      29.685\n",
      "Monat_3             11.5600      4.560      2.535      0.011       2.622      20.498\n",
      "Monat_4             30.4462      4.822      6.314      0.000      20.993      39.899\n",
      "Monat_5             37.3987      5.432      6.885      0.000      26.751      48.046\n",
      "Monat_6             42.7139      5.927      7.207      0.000      31.095      54.333\n",
      "Monat_7             94.0861      5.551     16.949      0.000      83.204     104.968\n",
      "Monat_8            122.0199      5.725     21.314      0.000     110.797     133.242\n",
      "Monat_9             44.1983      5.540      7.979      0.000      33.339      55.058\n",
      "Monat_10            42.7892      5.159      8.295      0.000      32.677      52.901\n",
      "Monat_11            13.6193      4.617      2.950      0.003       4.569      22.670\n",
      "Monat_12            59.7185      6.347      9.409      0.000      47.277      72.160\n",
      "national_holiday    53.2995      6.853      7.778      0.000      39.867      66.733\n",
      "christmas_market   -47.5837      5.353     -8.890      0.000     -58.076     -37.091\n",
      "KielerWoche         35.9727      6.758      5.323      0.000      22.725      49.221\n",
      "temp_bins_kalt       2.2011      5.173      0.426      0.670      -7.939      12.341\n",
      "temp_bins_mild       2.8410      5.982      0.475      0.635      -8.886      14.568\n",
      "temp_bins_warm       7.9063      6.690      1.182      0.237      -5.207      21.020\n",
      "temp_bins_heiß      28.5034     34.438      0.828      0.408     -39.004      96.011\n",
      "Wochentag_Di        -4.4998      3.252     -1.384      0.166     -10.874       1.875\n",
      "Wochentag_Mi        -4.1637      3.264     -1.275      0.202     -10.563       2.235\n",
      "Wochentag_Do         1.4573      3.262      0.447      0.655      -4.938       7.852\n",
      "Wochentag_Fr         3.7470      3.286      1.140      0.254      -2.694      10.188\n",
      "Wochentag_Sa        48.9013      3.268     14.964      0.000      42.495      55.307\n",
      "Wochentag_So        54.9885      3.270     16.816      0.000      48.578      61.398\n",
      "==============================================================================\n",
      "Omnibus:                     8018.993   Durbin-Watson:                   1.818\n",
      "Prob(Omnibus):                  0.000   Jarque-Bera (JB):          2294021.255\n",
      "Skew:                           4.885   Prob(JB):                         0.00\n",
      "Kurtosis:                      88.195   Cond. No.                         52.8\n",
      "==============================================================================\n",
      "\n",
      "Notes:\n",
      "[1] Standard Errors assume that the covariance matrix of the errors is correctly specified.\n"
     ]
    }
   ],
   "source": [
    "# Fit a linear regression model\n",
    "# - 'umsatz' is the dependent variable (target) we aim to predict.\n",
    "# - 'x' represents other variables.\n",
    "# - 'C(condition)' treats the 'condition' feature as a categorical variable.\n",
    "# mod = smf.ols('Umsatz ~ Brot + Broetchen + Croissant + Konditorei + Kuchen + Saisonbrot + national_holiday + christmas_market + KielerWoche + temp_bins_kalt + temp_bins_mild + temp_bins_warm + temp_bins_heiß + wind_bins_Wind + wind_bins_Sturm + Wettercode_2_leichter_niederschlag + Wettercode_3_starker_niederschlag + Wettercode_4_gewitter + Wochentag_Di + Wochentag_Mi + Wochentag_Do + Wochentag_Fr + Wochentag_Sa + Wochentag_So', data=df_training).fit()\n",
    "mod = smf.ols('Umsatz ~ Brot + Broetchen + Croissant + Konditorei + Kuchen + Monat_2 + Monat_3 + Monat_4 + Monat_5 + Monat_6 + Monat_7 + Monat_8 + Monat_9 + Monat_10 + Monat_11 + Monat_12 + national_holiday + christmas_market + KielerWoche + temp_bins_kalt + temp_bins_mild + temp_bins_warm + temp_bins_heiß + Wochentag_Di + Wochentag_Mi + Wochentag_Do + Wochentag_Fr + Wochentag_Sa + Wochentag_So', data=df_training).fit()\n",
    "# Output the summary of the fitted model\n",
    "# The summary includes key metrics such as R-squared, coefficients, and p-values.\n",
    "print(mod.summary())"
   ]
  },
  {
   "cell_type": "markdown",
   "metadata": {},
   "source": [
    "## Create Predictions"
   ]
  },
  {
   "cell_type": "code",
   "execution_count": 6,
   "metadata": {},
   "outputs": [],
   "source": [
    "# prediction of Umsatz for df_test using the baseline model, save the predictions in the column 'Umsatz' in df_test\n",
    "import pandas as pd\n",
    "\n",
    "# Load the dataset\n",
    "df_test = pd.read_csv('../_data_prepared/df_test_neural_network.csv')\n",
    "\n",
    "# Calculate the Umsatz using the baseline model using mod.predict\n",
    "# mod is the baseline model\n",
    "\n",
    "df_test['Umsatz'] = mod.predict(df_test)\n",
    "\n",
    "# Save the predictions in a CSV file\n",
    "df_test.to_csv('../_data_prepared/df_predictions_linearModel.csv', index=False)\n",
    "\n"
   ]
  },
  {
   "cell_type": "markdown",
   "metadata": {},
   "source": [
    "## Prepare Kaggle-Upload"
   ]
  },
  {
   "cell_type": "code",
   "execution_count": 7,
   "metadata": {},
   "outputs": [],
   "source": [
    "# load df_test as a dataframe\n",
    "import pandas as pd\n",
    "\n",
    "df = pd.read_csv('../_data_prepared/df_predictions_linearModel.csv')\n",
    "df.head()\n",
    "\n",
    "# ersetze alle NaN Werte in column Umsatz durch 0\n",
    "df['Umsatz'] = df['Umsatz'].fillna(0)\n",
    "df.head()\n",
    "\n",
    "# delete all columns except for Umsatz and id\n",
    "kaggle_upload = df[['id', 'Umsatz']]\n",
    "kaggle_upload.head()\n",
    "\n",
    "#  save the dataframe as df_prediction.csv\n",
    "kaggle_upload.to_csv('../_data_prepared/df_kaggle_upload_linearModel.csv', index=False)\n"
   ]
  }
 ],
 "metadata": {
  "kernelspec": {
   "display_name": "Python 3",
   "language": "python",
   "name": "python3"
  },
  "language_info": {
   "codemirror_mode": {
    "name": "ipython",
    "version": 3
   },
   "file_extension": ".py",
   "mimetype": "text/x-python",
   "name": "python",
   "nbconvert_exporter": "python",
   "pygments_lexer": "ipython3",
   "version": "3.12.1"
  }
 },
 "nbformat": 4,
 "nbformat_minor": 2
}
