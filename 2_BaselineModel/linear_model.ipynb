{
 "cells": [
  {
   "cell_type": "markdown",
   "metadata": {},
   "source": [
    "# Initial Model (Test)\n",
    "# Preparation (importing libraries, import data)"
   ]
  },
  {
   "cell_type": "code",
   "execution_count": 7,
   "metadata": {},
   "outputs": [],
   "source": [
    "# Import necessary libraries\n",
    "import pandas as pd  # For data manipulation and handling\n",
    "import statsmodels.formula.api as smf  # For statistical modeling\n",
    "\n",
    "# read data as df (df_dataset_complete.csv) in _data_prepared\n",
    "df_training = pd.read_csv('/workspaces/MA-bakery-sales-prediction/_data_prepared/df_training.csv')"
   ]
  },
  {
   "cell_type": "markdown",
   "metadata": {},
   "source": [
    "## Building the Linear Model"
   ]
  },
  {
   "cell_type": "code",
   "execution_count": 8,
   "metadata": {},
   "outputs": [
    {
     "name": "stdout",
     "output_type": "stream",
     "text": [
      "                            OLS Regression Results                            \n",
      "==============================================================================\n",
      "Dep. Variable:                 Umsatz   R-squared:                       0.742\n",
      "Model:                            OLS   Adj. R-squared:                  0.740\n",
      "Method:                 Least Squares   F-statistic:                     690.0\n",
      "Date:                Wed, 18 Dec 2024   Prob (F-statistic):               0.00\n",
      "Time:                        16:09:06   Log-Likelihood:                -42960.\n",
      "No. Observations:                7487   AIC:                         8.598e+04\n",
      "Df Residuals:                    7455   BIC:                         8.621e+04\n",
      "Df Model:                          31                                         \n",
      "Covariance Type:            nonrobust                                         \n",
      "====================================================================================\n",
      "                       coef    std err          t      P>|t|      [0.025      0.975]\n",
      "------------------------------------------------------------------------------------\n",
      "Intercept          110.5704      5.571     19.848      0.000      99.650     121.491\n",
      "Brot               -54.0952      2.130    -25.397      0.000     -58.271     -49.920\n",
      "Broetchen          235.0687      2.130    110.363      0.000     230.893     239.244\n",
      "Croissant          -11.3389      2.130     -5.324      0.000     -15.514      -7.164\n",
      "Konditorei         -86.9587      2.153    -40.388      0.000     -91.179     -82.738\n",
      "Monat_2             20.3632      4.501      4.524      0.000      11.540      29.187\n",
      "Monat_3             10.9361      4.572      2.392      0.017       1.973      19.899\n",
      "Monat_4             29.8002      4.835      6.163      0.000      20.322      39.279\n",
      "Monat_5             36.5866      5.451      6.712      0.000      25.901      47.272\n",
      "Monat_6             41.9132      5.947      7.048      0.000      30.256      53.570\n",
      "Monat_7             93.2527      5.575     16.727      0.000      82.324     104.181\n",
      "Monat_8            121.3595      5.736     21.157      0.000     110.115     132.604\n",
      "Monat_9             43.9855      5.540      7.939      0.000      33.125      54.846\n",
      "Monat_10            42.9399      5.159      8.324      0.000      32.827      53.053\n",
      "Monat_11            13.8290      4.619      2.994      0.003       4.775      22.883\n",
      "Monat_12            59.4435      6.348      9.364      0.000      46.999      71.888\n",
      "Kuchen             105.4282      2.130     49.498      0.000     101.253     109.604\n",
      "Saisonbrot         -77.5337      4.652    -16.666      0.000     -86.653     -68.414\n",
      "national_holiday    52.7487      6.859      7.691      0.000      39.304      66.194\n",
      "christmas_market   -47.6615      5.352     -8.905      0.000     -58.154     -37.169\n",
      "KielerWoche         36.2752      6.761      5.365      0.000      23.022      49.529\n",
      "temp_bins_kalt       1.7456      5.181      0.337      0.736      -8.410      11.901\n",
      "temp_bins_mild       2.3433      5.989      0.391      0.696      -9.396      14.083\n",
      "temp_bins_warm       7.6238      6.696      1.138      0.255      -5.503      20.751\n",
      "temp_bins_heiß      29.5320     34.465      0.857      0.392     -38.029      97.093\n",
      "wind_bins_Wind       4.6571      4.317      1.079      0.281      -3.806      13.120\n",
      "wind_bins_Sturm      6.7358      4.117      1.636      0.102      -1.334      14.806\n",
      "Wochentag_Di        -4.5172      3.252     -1.389      0.165     -10.891       1.857\n",
      "Wochentag_Mi        -4.2608      3.265     -1.305      0.192     -10.660       2.139\n",
      "Wochentag_Do         1.4593      3.262      0.447      0.655      -4.936       7.854\n",
      "Wochentag_Fr         3.6752      3.286      1.119      0.263      -2.766      10.116\n",
      "Wochentag_Sa        48.8734      3.268     14.956      0.000      42.468      55.279\n",
      "Wochentag_So        54.7834      3.272     16.744      0.000      48.370      61.197\n",
      "==============================================================================\n",
      "Omnibus:                     8018.273   Durbin-Watson:                   1.819\n",
      "Prob(Omnibus):                  0.000   Jarque-Bera (JB):          2291701.306\n",
      "Skew:                           4.885   Prob(JB):                         0.00\n",
      "Kurtosis:                      88.151   Cond. No.                     2.32e+15\n",
      "==============================================================================\n",
      "\n",
      "Notes:\n",
      "[1] Standard Errors assume that the covariance matrix of the errors is correctly specified.\n",
      "[2] The smallest eigenvalue is 3.26e-27. This might indicate that there are\n",
      "strong multicollinearity problems or that the design matrix is singular.\n"
     ]
    }
   ],
   "source": [
    "# Fit a linear regression model\n",
    "# - 'umsatz' is the dependent variable (target) we aim to predict.\n",
    "# - 'x' represents other variables.\n",
    "# - 'C(condition)' treats the 'condition' feature as a categorical variable.\n",
    "# mod = smf.ols('Umsatz ~ Brot + Broetchen + Croissant + Konditorei + Kuchen + Saisonbrot + national_holiday + christmas_market + KielerWoche + temp_bins_kalt + temp_bins_mild + temp_bins_warm + temp_bins_heiß + wind_bins_Wind + wind_bins_Sturm + Wettercode_2_leichter_niederschlag + Wettercode_3_starker_niederschlag + Wettercode_4_gewitter + Wochentag_Di + Wochentag_Mi + Wochentag_Do + Wochentag_Fr + Wochentag_Sa + Wochentag_So', data=df_training).fit()\n",
    "mod = smf.ols('Umsatz ~ Brot + Broetchen + Croissant + Konditorei + Monat_2 + Monat_3 + Monat_4 + Monat_5 + Monat_6 + Monat_7 + Monat_8 + Monat_9 + Monat_10 + Monat_11 + Monat_12 + Kuchen + Saisonbrot + national_holiday + christmas_market + KielerWoche + temp_bins_kalt + temp_bins_mild + temp_bins_warm + temp_bins_heiß + wind_bins_Wind + wind_bins_Sturm + Wochentag_Di + Wochentag_Mi + Wochentag_Do + Wochentag_Fr + Wochentag_Sa + Wochentag_So', data=df_training).fit()\n",
    "# Output the summary of the fitted model\n",
    "# The summary includes key metrics such as R-squared, coefficients, and p-values.\n",
    "print(mod.summary())"
   ]
  },
  {
   "cell_type": "markdown",
   "metadata": {},
   "source": [
    "## Create Predictions"
   ]
  },
  {
   "cell_type": "code",
   "execution_count": 9,
   "metadata": {},
   "outputs": [],
   "source": [
    "# prediction of Umsatz for df_test using the baseline model, save the predictions in the column 'Umsatz' in df_test\n",
    "import pandas as pd\n",
    "\n",
    "# Load the dataset\n",
    "df_test = pd.read_csv('../_data_prepared/df_test.csv')\n",
    "\n",
    "# Calculate the Umsatz using the baseline model using mod.predict\n",
    "# mod is the baseline model\n",
    "\n",
    "df_test['Umsatz'] = mod.predict(df_test)\n",
    "\n",
    "# Save the predictions in a CSV file\n",
    "df_test.to_csv('../_data_prepared/df_predictions_linearModel.csv', index=False)\n",
    "\n"
   ]
  },
  {
   "cell_type": "markdown",
   "metadata": {},
   "source": [
    "## Prepare Kaggle-Upload"
   ]
  },
  {
   "cell_type": "code",
   "execution_count": 7,
   "metadata": {},
   "outputs": [],
   "source": [
    "# load df_test as a dataframe\n",
    "import pandas as pd\n",
    "\n",
    "df = pd.read_csv('../_data_prepared/df_predictions_linearModel.csv')\n",
    "df.head()\n",
    "\n",
    "# ersetze alle NaN Werte in column Umsatz durch 0\n",
    "df['Umsatz'] = df['Umsatz'].fillna(0)\n",
    "df.head()\n",
    "\n",
    "# delete all columns except for Umsatz and id\n",
    "kaggle_upload = df[['id', 'Umsatz']]\n",
    "kaggle_upload.head()\n",
    "\n",
    "#  save the dataframe as df_prediction.csv\n",
    "kaggle_upload.to_csv('../_data_prepared/df_kaggle_upload_linearModel.csv', index=False)\n"
   ]
  }
 ],
 "metadata": {
  "kernelspec": {
   "display_name": "Python 3",
   "language": "python",
   "name": "python3"
  },
  "language_info": {
   "codemirror_mode": {
    "name": "ipython",
    "version": 3
   },
   "file_extension": ".py",
   "mimetype": "text/x-python",
   "name": "python",
   "nbconvert_exporter": "python",
   "pygments_lexer": "ipython3",
   "version": "3.12.1"
  }
 },
 "nbformat": 4,
 "nbformat_minor": 2
}
