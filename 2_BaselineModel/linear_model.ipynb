{
 "cells": [
  {
   "cell_type": "markdown",
   "metadata": {},
   "source": [
    "# Initial Model (Test)\n",
    "# Preparation (importing libraries, import data)"
   ]
  },
  {
   "cell_type": "code",
   "execution_count": 6,
   "metadata": {},
   "outputs": [],
   "source": [
    "# Import necessary libraries\n",
    "import pandas as pd  # For data manipulation and handling\n",
    "import statsmodels.formula.api as smf  # For statistical modeling\n",
    "\n",
    "# read data as df (df_dataset_complete.csv) in _data_prepared\n",
    "df_training = pd.read_csv('/workspaces/MA-bakery-sales-prediction/_data_prepared/df_training.csv')"
   ]
  },
  {
   "cell_type": "markdown",
   "metadata": {},
   "source": [
    "## Building the Linear Model"
   ]
  },
  {
   "cell_type": "code",
   "execution_count": 8,
   "metadata": {},
   "outputs": [
    {
     "name": "stdout",
     "output_type": "stream",
     "text": [
      "                            OLS Regression Results                            \n",
      "==============================================================================\n",
      "Dep. Variable:                 Umsatz   R-squared:                       0.745\n",
      "Model:                            OLS   Adj. R-squared:                  0.745\n",
      "Method:                 Least Squares   F-statistic:                 2.164e+04\n",
      "Date:                Wed, 04 Dec 2024   Prob (F-statistic):               0.00\n",
      "Time:                        14:57:54   Log-Likelihood:            -1.1441e+06\n",
      "No. Observations:              200297   AIC:                         2.288e+06\n",
      "Df Residuals:                  200269   BIC:                         2.289e+06\n",
      "Df Model:                          27                                         \n",
      "Covariance Type:            nonrobust                                         \n",
      "======================================================================================================\n",
      "                                         coef    std err          t      P>|t|      [0.025      0.975]\n",
      "------------------------------------------------------------------------------------------------------\n",
      "Intercept                             87.1293      1.088     80.064      0.000      84.996      89.262\n",
      "Brot                                 -56.1551      0.399   -140.758      0.000     -56.937     -55.373\n",
      "Broetchen                            228.2561      0.399    572.146      0.000     227.474     229.038\n",
      "Croissant                            -15.6442      0.399    -39.214      0.000     -16.426     -14.862\n",
      "Konditorei                           -88.5544      0.402   -220.422      0.000     -89.342     -87.767\n",
      "Kuchen                               100.3708      0.399    251.589      0.000      99.589     101.153\n",
      "Saisonbrot                           -81.1439      0.762   -106.460      0.000     -82.638     -79.650\n",
      "national_holiday                      44.8470      1.285     34.906      0.000      42.329      47.365\n",
      "christmas_market                     -20.2807      0.665    -30.503      0.000     -21.584     -18.978\n",
      "KielerWoche                           25.1037      1.145     21.934      0.000      22.860      27.347\n",
      "Schifffahrt                            0.0001   9.17e-07    126.556      0.000       0.000       0.000\n",
      "bewoelkt_bins_bewoelkt_1mäßig_3_5     -0.8404      0.501     -1.676      0.094      -1.823       0.142\n",
      "bewoelkt_bins_bewoelkt_2stark_6_8     -4.2022      0.485     -8.672      0.000      -5.152      -3.252\n",
      "Monat                                  1.2930      0.060     21.598      0.000       1.176       1.410\n",
      "temp_bins_kalt                        -2.5338      0.926     -2.736      0.006      -4.349      -0.719\n",
      "temp_bins_mild                        -8.3867      1.013     -8.282      0.000     -10.371      -6.402\n",
      "temp_bins_warm                        -5.9347      1.204     -4.929      0.000      -8.295      -3.575\n",
      "temp_bins_heiß                        49.5158      6.671      7.422      0.000      36.440      62.592\n",
      "wind_bins_Wind                         7.1866      0.785      9.157      0.000       5.648       8.725\n",
      "wind_bins_Sturm                        7.6332      0.748     10.200      0.000       6.166       9.100\n",
      "Wettercode_2_leichter_niederschlag    -2.4204      0.405     -5.984      0.000      -3.213      -1.628\n",
      "Wettercode_3_starker_niederschlag     -0.1656      1.420     -0.117      0.907      -2.950       2.618\n",
      "Wettercode_4_gewitter                 -0.8803      1.401     -0.628      0.530      -3.627       1.866\n",
      "Wochentag_Di                          -4.9273      0.612     -8.054      0.000      -6.126      -3.728\n",
      "Wochentag_Mi                          -5.2986      0.616     -8.607      0.000      -6.505      -4.092\n",
      "Wochentag_Do                           1.7896      0.612      2.925      0.003       0.591       2.989\n",
      "Wochentag_Fr                           3.4345      0.619      5.549      0.000       2.221       4.647\n",
      "Wochentag_Sa                          46.9504      0.615     76.310      0.000      45.745      48.156\n",
      "Wochentag_So                          55.8109      0.613     91.006      0.000      54.609      57.013\n",
      "==============================================================================\n",
      "Omnibus:                   204621.919   Durbin-Watson:                   0.041\n",
      "Prob(Omnibus):                  0.000   Jarque-Bera (JB):         55086077.958\n",
      "Skew:                           4.545   Prob(JB):                         0.00\n",
      "Kurtosis:                      83.733   Cond. No.                     6.19e+16\n",
      "==============================================================================\n",
      "\n",
      "Notes:\n",
      "[1] Standard Errors assume that the covariance matrix of the errors is correctly specified.\n",
      "[2] The smallest eigenvalue is 2.2e-17. This might indicate that there are\n",
      "strong multicollinearity problems or that the design matrix is singular.\n"
     ]
    }
   ],
   "source": [
    "# Fit a linear regression model\n",
    "# - 'umsatz' is the dependent variable (target) we aim to predict.\n",
    "# - 'x' represents other variables.\n",
    "# - 'C(condition)' treats the 'condition' feature as a categorical variable.\n",
    "mod = smf.ols('Umsatz ~ Brot + Broetchen + Croissant + Konditorei + Kuchen + Saisonbrot + national_holiday + christmas_market + KielerWoche + Schifffahrt + bewoelkt_bins_bewoelkt_1mäßig_3_5 + bewoelkt_bins_bewoelkt_2stark_6_8 + Monat + temp_bins_kalt + temp_bins_mild + temp_bins_warm + temp_bins_heiß + wind_bins_Wind + wind_bins_Sturm + Wettercode_2_leichter_niederschlag + Wettercode_3_starker_niederschlag + Wettercode_4_gewitter + Wochentag_Di + Wochentag_Mi + Wochentag_Do + Wochentag_Fr + Wochentag_Sa + Wochentag_So', data=df_training).fit()\n",
    "\n",
    "# Output the summary of the fitted model\n",
    "# The summary includes key metrics such as R-squared, coefficients, and p-values.\n",
    "print(mod.summary())"
   ]
  }
 ],
 "metadata": {
  "kernelspec": {
   "display_name": "Python 3",
   "language": "python",
   "name": "python3"
  },
  "language_info": {
   "codemirror_mode": {
    "name": "ipython",
    "version": 3
   },
   "file_extension": ".py",
   "mimetype": "text/x-python",
   "name": "python",
   "nbconvert_exporter": "python",
   "pygments_lexer": "ipython3",
   "version": "3.12.1"
  }
 },
 "nbformat": 4,
 "nbformat_minor": 2
}
