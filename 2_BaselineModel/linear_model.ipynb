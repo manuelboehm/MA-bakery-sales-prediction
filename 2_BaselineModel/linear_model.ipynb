{
 "cells": [
  {
   "cell_type": "markdown",
   "metadata": {},
   "source": [
    "# Initial Model (Test)\n",
    "# Preparation (importing libraries, import data)"
   ]
  },
  {
   "cell_type": "code",
   "execution_count": null,
   "metadata": {},
   "outputs": [],
   "source": [
    "# Import necessary libraries\n",
    "import pandas as pd  # For data manipulation and handling\n",
    "import statsmodels.formula.api as smf  # For statistical modeling\n",
    "\n",
    "# read data as df (df_dataset_complete.csv) in _data_prepared\n",
    "df_training = pd.read_csv('/workspaces/MA-bakery-sales-prediction/_data_prepared/df_training.csv')"
   ]
  },
  {
   "cell_type": "markdown",
   "metadata": {},
   "source": [
    "## Building the Linear Model"
   ]
  },
  {
   "cell_type": "code",
   "execution_count": null,
   "metadata": {},
   "outputs": [],
   "source": [
    "# Fit a linear regression model\n",
    "# - 'umsatz' is the dependent variable (target) we aim to predict.\n",
    "# - 'x' represents other variables.\n",
    "# - 'C(condition)' treats the 'condition' feature as a categorical variable.\n",
    "mod = smf.ols('Umsatz ~ Brot + Broetchen + Croissant + Konditorei + Kuchen + Saisonbrot + national_holiday + christmas_market + KielerWoche + Schifffahrt + bewoelkt_bins_bewoelkt_1mäßig_3_5 + bewoelkt_bins_bewoelkt_2stark_6_8 + Monat + temp_bins_kalt + temp_bins_mild + temp_bins_warm + temp_bins_heiß + wind_bins_Wind + wind_bins_Sturm + Wettercode_2_leichter_niederschlag + Wettercode_3_starker_niederschlag + Wettercode_4_gewitter + Wochentag_Di + Wochentag_Mi + Wochentag_Do + Wochentag_Fr + Wochentag_Sa + Wochentag_So', data=df_training).fit()\n",
    "\n",
    "# Output the summary of the fitted model\n",
    "# The summary includes key metrics such as R-squared, coefficients, and p-values.\n",
    "print(mod.summary())"
   ]
  },
  {
   "cell_type": "markdown",
   "metadata": {},
   "source": [
    "## Create Predictions"
   ]
  },
  {
   "cell_type": "code",
   "execution_count": null,
   "metadata": {},
   "outputs": [],
   "source": []
  }
 ],
 "metadata": {
  "kernelspec": {
   "display_name": "Python 3",
   "language": "python",
   "name": "python3"
  },
  "language_info": {
   "codemirror_mode": {
    "name": "ipython",
    "version": 3
   },
   "file_extension": ".py",
   "mimetype": "text/x-python",
   "name": "python",
   "nbconvert_exporter": "python",
   "pygments_lexer": "ipython3",
   "version": "3.12.1"
  }
 },
 "nbformat": 4,
 "nbformat_minor": 2
}
