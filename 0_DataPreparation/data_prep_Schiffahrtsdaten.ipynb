{
 "cells": [
  {
   "cell_type": "markdown",
   "metadata": {},
   "source": [
    "Bereinigung Schifffahrtsdaten"
   ]
  },
  {
   "cell_type": "code",
   "execution_count": 18,
   "metadata": {},
   "outputs": [
    {
     "name": "stdout",
     "output_type": "stream",
     "text": [
      "Failed with latin-1 encoding: [Errno 2] No such file or directory: '/workspaces/MA-bakery-sales-prediction/_data_raw/df_seeschifffahrt.csv'\n",
      "Failed with iso-8859-1 encoding: [Errno 2] No such file or directory: '/workspaces/MA-bakery-sales-prediction/_data_raw/df_seeschifffahrt.csv'\n",
      "Failed with cp1252 encoding: [Errno 2] No such file or directory: '/workspaces/MA-bakery-sales-prediction/_data_raw/df_seeschifffahrt.csv'\n",
      "Failed with utf-8-sig encoding: [Errno 2] No such file or directory: '/workspaces/MA-bakery-sales-prediction/_data_raw/df_seeschifffahrt.csv'\n"
     ]
    }
   ],
   "source": [
    "import pandas as pd\n",
    "\n",
    "# Try different encodings\n",
    "encodings = ['latin-1', 'iso-8859-1', 'cp1252', 'utf-8-sig']\n",
    "\n",
    "for encoding in encodings:\n",
    "    try:\n",
    "        df = pd.read_csv('/workspaces/MA-bakery-sales-prediction/_data_raw/df_seeschifffahrt.csv', \n",
    "                         sep=';', \n",
    "                         encoding=encoding)\n",
    "        \n",
    "        # Columns to keep\n",
    "        columns_to_keep = [\n",
    "            'Jahr', '2013', '2014', '2015', '2016', '2017', '2018'\n",
    "        ]\n",
    "\n",
    "        # Filter the DataFrame\n",
    "        df_filtered = df[columns_to_keep]\n",
    "\n",
    "        # Save the filtered DataFrame to a new CSV if needed\n",
    "        df_filtered.to_csv('/workspaces/MA-bakery-sales-prediction/_data_raw/df_seeschifffahrt_filtered.csv', \n",
    "                           sep=';', \n",
    "                           index=False,\n",
    "                           encoding=encoding)\n",
    "\n",
    "        # Display the first few rows to verify\n",
    "        print(f\"Successfully read file with {encoding} encoding:\")\n",
    "        print(df_filtered.head())\n",
    "        \n",
    "        # Break the loop if successful\n",
    "        break\n",
    "    \n",
    "    except Exception as e:\n",
    "        print(f\"Failed with {encoding} encoding: {e}\")\n",
    "\n"
   ]
  },
  {
   "cell_type": "markdown",
   "metadata": {},
   "source": [
    "## Rename column Schiffahrt to Schifffahrt"
   ]
  },
  {
   "cell_type": "code",
   "execution_count": 23,
   "metadata": {},
   "outputs": [
    {
     "name": "stdout",
     "output_type": "stream",
     "text": [
      "Column renamed successfully\n"
     ]
    }
   ],
   "source": [
    "# read data df_schifffahrt.csv in _Variables_cleaned, check if column schiffahrt exists in the data, if yes, rename it to schifffahrt\n",
    "import pandas as pd\n",
    "\n",
    "df = pd.read_csv('/workspaces/MA-bakery-sales-prediction/_Variables_cleaned/df_Schifffahrt.csv', sep=',')\n",
    "\n",
    "if 'Schiffahrt' in df.columns:\n",
    "    df.rename(columns={'Schiffahrt': 'Schifffahrt'}, inplace=True)\n",
    "    df.to_csv('/workspaces/MA-bakery-sales-prediction/_Variables_cleaned/df_Schifffahrt.csv', sep=',', index=False)\n",
    "    print(\"Column renamed successfully\")\n",
    "else:\n",
    "    print(\"Column not found\")\n"
   ]
  }
 ],
 "metadata": {
  "kernelspec": {
   "display_name": "Python 3",
   "language": "python",
   "name": "python3"
  },
  "language_info": {
   "codemirror_mode": {
    "name": "ipython",
    "version": 3
   },
   "file_extension": ".py",
   "mimetype": "text/x-python",
   "name": "python",
   "nbconvert_exporter": "python",
   "pygments_lexer": "ipython3",
   "version": "3.12.1"
  }
 },
 "nbformat": 4,
 "nbformat_minor": 2
}
