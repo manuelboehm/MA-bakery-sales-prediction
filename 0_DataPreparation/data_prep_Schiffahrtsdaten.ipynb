{
 "cells": [
  {
   "cell_type": "markdown",
   "metadata": {},
   "source": [
    "Bereinigung Schiffahrtsdaten"
   ]
  },
  {
   "cell_type": "code",
   "execution_count": 12,
   "metadata": {},
   "outputs": [
    {
     "name": "stdout",
     "output_type": "stream",
     "text": [
      "Successfully read file with latin-1 encoding:\n",
      "      Jahr    2013    2014    2015    2016    2017    2018\n",
      "0     Land      SH      SH      SH      SH      SH      SH\n",
      "1    Thema      1)      1)      1)      1)      1)      1)\n",
      "2   Januar  247099  302451  285513  290027  269633  259471\n",
      "3  Februar  317758  331167  328016  318608  309153  306568\n",
      "4     März  433414  379175  380606  440950  350884  396394\n"
     ]
    }
   ],
   "source": [
    "import pandas as pd\n",
    "\n",
    "# Try different encodings\n",
    "encodings = ['latin-1', 'iso-8859-1', 'cp1252', 'utf-8-sig']\n",
    "\n",
    "for encoding in encodings:\n",
    "    try:\n",
    "        df = pd.read_csv('/workspaces/MA-bakery-sales-prediction/_data_raw/df_seeschifffahrt.csv', \n",
    "                         sep=';', \n",
    "                         encoding=encoding)\n",
    "        \n",
    "        # Columns to keep\n",
    "        columns_to_keep = [\n",
    "            'Jahr', '2013', '2014', '2015', '2016', '2017', '2018'\n",
    "        ]\n",
    "\n",
    "        # Filter the DataFrame\n",
    "        df_filtered = df[columns_to_keep]\n",
    "\n",
    "        # Save the filtered DataFrame to a new CSV if needed\n",
    "        df_filtered.to_csv('/workspaces/MA-bakery-sales-prediction/_data_raw/df_seeschifffahrt_filtered.csv', \n",
    "                           sep=';', \n",
    "                           index=False,\n",
    "                           encoding=encoding)\n",
    "\n",
    "        # Display the first few rows to verify\n",
    "        print(f\"Successfully read file with {encoding} encoding:\")\n",
    "        print(df_filtered.head())\n",
    "        \n",
    "        # Break the loop if successful\n",
    "        break\n",
    "    \n",
    "    except Exception as e:\n",
    "        print(f\"Failed with {encoding} encoding: {e}\")"
   ]
  }
 ],
 "metadata": {
  "kernelspec": {
   "display_name": "Python 3",
   "language": "python",
   "name": "python3"
  },
  "language_info": {
   "codemirror_mode": {
    "name": "ipython",
    "version": 3
   },
   "file_extension": ".py",
   "mimetype": "text/x-python",
   "name": "python",
   "nbconvert_exporter": "python",
   "pygments_lexer": "ipython3",
   "version": "3.12.1"
  }
 },
 "nbformat": 4,
 "nbformat_minor": 2
}
