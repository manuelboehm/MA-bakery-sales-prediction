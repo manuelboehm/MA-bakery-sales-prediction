{
 "cells": [
  {
   "cell_type": "markdown",
   "metadata": {},
   "source": [
    "## Data Prep Merge"
   ]
  },
  {
   "cell_type": "code",
   "execution_count": 1,
   "metadata": {},
   "outputs": [],
   "source": [
    "import pandas as pd\n",
    "\n",
    "# merge df_umsatz_warengruppe, df_kiel_events, df_kiwo, df_Schiffahrt, df_wetter, df_wochentage\n",
    "# df_umsatz_warengruppe is the main dataframe, add the others via left merge\n",
    "# all dataframes are in the folder _Variables_cleaned\n",
    "\n",
    "df_umsatz_warengruppe = pd.read_csv('../_Variables_cleaned/df_umsatz_warengruppe.csv')\n",
    "df_kiel_events = pd.read_csv('../_Variables_cleaned/df_kiel_events.csv')\n",
    "df_kiwo = pd.read_csv('../_Variables_cleaned/df_kiwo.csv')\n",
    "df_Schifffahrt = pd.read_csv('../_Variables_cleaned/df_Schifffahrt.csv')\n",
    "df_wetter = pd.read_csv('../_Variables_cleaned/df_wetter.csv')\n",
    "df_wochentage = pd.read_csv('../_Variables_cleaned/df_wochentage.csv')\n",
    "\n",
    "df_umsatz_warengruppe = pd.merge(df_umsatz_warengruppe, df_kiel_events, on='Datum', how='left')\n",
    "df_umsatz_warengruppe = pd.merge(df_umsatz_warengruppe, df_kiwo, on='Datum', how='outer')\n",
    "df_umsatz_warengruppe = pd.merge(df_umsatz_warengruppe, df_Schifffahrt, on='Datum', how='left')\n",
    "df_umsatz_warengruppe = pd.merge(df_umsatz_warengruppe, df_wetter, on='Datum', how='outer')\n",
    "df_umsatz_warengruppe = pd.merge(df_umsatz_warengruppe, df_wochentage, on='Datum', how='left')\n",
    "\n",
    "# save dataframe as df_prepared in _data_prepared\n",
    "df_umsatz_warengruppe.to_csv('../_data_prepared/df_dataset_complete.csv', index=False)\n"
   ]
  },
  {
   "cell_type": "markdown",
   "metadata": {},
   "source": [
    "## Divide dataset"
   ]
  },
  {
   "cell_type": "code",
   "execution_count": 2,
   "metadata": {},
   "outputs": [],
   "source": [
    "import pandas as pd\n",
    "\n",
    "# read data as df (df_merged_umsatz_kiwo01_wetter_wochentage.csv) in 1_DatasetCharacteristics\n",
    "df = pd.read_csv('/workspaces/MA-bakery-sales-prediction/_data_prepared/df_dataset_complete.csv')\n",
    "\n",
    "# Den Datensatz df teilen in Trainingsdatensatz and Validierungsdatensatz\n",
    "# df_training: alle Daten vom 01.07.2013 bis 31.07.2017\n",
    "# df_test: alle Daten vom 01.08.2017 bis 31.07.2018\n",
    "df_training = df[(df['Datum'] >= '2017-08-01') & (df['Datum'] < '2017-08-01')]\n",
    "df_test = df[(df['Datum'] >= '2017-08-01') & (df['Datum'] <= '2018-07-31')]\n",
    "\n",
    "# save df_training and df_test as csv files\n",
    "df_training.to_csv('/workspaces/MA-bakery-sales-prediction/_data_prepared/df_training.csv', index=False)\n",
    "df_test.to_csv('/workspaces/MA-bakery-sales-prediction/_data_prepared/df_test.csv', index=False)"
   ]
  }
 ],
 "metadata": {
  "kernelspec": {
   "display_name": "Python 3",
   "language": "python",
   "name": "python3"
  },
  "language_info": {
   "codemirror_mode": {
    "name": "ipython",
    "version": 3
   },
   "file_extension": ".py",
   "mimetype": "text/x-python",
   "name": "python",
   "nbconvert_exporter": "python",
   "pygments_lexer": "ipython3",
   "version": "3.12.1"
  }
 },
 "nbformat": 4,
 "nbformat_minor": 2
}
