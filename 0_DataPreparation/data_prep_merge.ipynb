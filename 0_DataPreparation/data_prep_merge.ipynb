{
 "cells": [
  {
   "cell_type": "markdown",
   "metadata": {},
   "source": [
    "## Data Prep Merge"
   ]
  },
  {
   "cell_type": "code",
   "execution_count": null,
   "metadata": {},
   "outputs": [],
   "source": [
    "import pandas as pd\n",
    "\n",
    "# Mergen: Umsatzdaten mit Kieler Woche (Left Join)\n",
    "merged_df = df_umsatz.merge(df_kiwo, on='Datum', how='left')\n",
    "\n",
    "# Mergen: Das Ergebnis mit Wetterdaten (Left Join)\n",
    "merged_df = merged_df.merge(df_wetter, on='Datum', how='left')\n",
    "\n",
    "# Ergebnis anzeigen\n",
    "print(merged_df.head())\n",
    "\n",
    "# Anzeigen der Spaltennamen (Variablen) im gemergten DataFrame\n",
    "print(merged_df.columns)\n",
    "\n",
    "# save the merged df as df_merged_umsatz_kiwo_wetter\n",
    "merged_df.to_csv(\"df_merged_umsatz_kiwo_wetter.csv\", index=False)"
   ]
  }
 ],
 "metadata": {
  "kernelspec": {
   "display_name": "Python 3",
   "language": "python",
   "name": "python3"
  },
  "language_info": {
   "name": "python",
   "version": "3.12.1"
  }
 },
 "nbformat": 4,
 "nbformat_minor": 2
}
