{
 "cells": [
  {
   "cell_type": "markdown",
   "metadata": {},
   "source": [
    "## Data Prep Umsatz & Warengruppe"
   ]
  },
  {
   "cell_type": "code",
   "execution_count": 2,
   "metadata": {},
   "outputs": [],
   "source": [
    "import pandas as pd\n",
    "\n",
    "# Laden der Daten\n",
    "df_umsatz = pd.read_csv('../_data_raw/df_umsatz.csv')\n",
    "\n",
    "# Mapping der Warengruppe-Codes zu den entsprechenden Spalten\n",
    "warengruppe_mapping = {\n",
    "    1: 'Brot',\n",
    "    2: 'Broetchen',\n",
    "    3: 'Croissant',\n",
    "    4: 'Konditorei',\n",
    "    5: 'Kuchen',\n",
    "    6: 'Saisonbrot'\n",
    "}\n",
    "\n",
    "# Initialisieren des DataFrames für df_umsatz_warengruppe\n",
    "df_umsatz_warengruppe = pd.DataFrame({\n",
    "    'Datum': df_umsatz['Datum'],\n",
    "    'Umsatz': df_umsatz['Umsatz'],\n",
    "    'Brot': 0,\n",
    "    'Broetchen': 0,\n",
    "    'Croissant': 0,\n",
    "    'Konditorei': 0,\n",
    "    'Kuchen': 0,\n",
    "    'Saisonbrot': 0,\n",
    "    'Warengruppe': df_umsatz['Warengruppe']\n",
    "})\n",
    "\n",
    "# Setzen der entsprechenden Spalte basierend auf der Warengruppe\n",
    "for code, column in warengruppe_mapping.items():\n",
    "    df_umsatz_warengruppe.loc[df_umsatz_warengruppe['Warengruppe'] == code, column] = 1\n",
    "\n",
    "# Neuordnung der Spalten\n",
    "df_umsatz_warengruppe = df_umsatz_warengruppe[['Datum', 'Umsatz', 'Warengruppe', 'Brot', 'Broetchen', 'Croissant', 'Konditorei', 'Kuchen', 'Saisonbrot']]\n",
    "\n",
    "# Speichern der bereinigten Daten\n",
    "df_umsatz_warengruppe.to_csv('../_Variables_cleaned/df_umsatz_warengruppe.csv', index=False)"
   ]
  },
  {
   "cell_type": "code",
   "execution_count": null,
   "metadata": {},
   "outputs": [
    {
     "name": "stdout",
     "output_type": "stream",
     "text": [
      "        Datum      Umsatz  Warengruppe  Brot  Broetchen  Croissant  \\\n",
      "0  2013-07-01  148.828353            1     1          0          0   \n",
      "1  2013-07-02  159.793757            1     1          0          0   \n",
      "2  2013-07-03  111.885594            1     1          0          0   \n",
      "3  2013-07-04  168.864941            1     1          0          0   \n",
      "4  2013-07-05  171.280754            1     1          0          0   \n",
      "5  2013-07-06  174.552360            1     1          0          0   \n",
      "6  2013-07-07   92.637755            1     1          0          0   \n",
      "7  2013-07-08  135.500244            1     1          0          0   \n",
      "8  2013-07-09  136.048383            1     1          0          0   \n",
      "9  2013-07-10  135.132314            1     1          0          0   \n",
      "\n",
      "   Konditorei  Kuchen  Saisonbrot  \n",
      "0           0       0           0  \n",
      "1           0       0           0  \n",
      "2           0       0           0  \n",
      "3           0       0           0  \n",
      "4           0       0           0  \n",
      "5           0       0           0  \n",
      "6           0       0           0  \n",
      "7           0       0           0  \n",
      "8           0       0           0  \n",
      "9           0       0           0  \n",
      "           Datum      Umsatz  Warengruppe  Brot  Broetchen  Croissant  \\\n",
      "9324  2017-12-16  105.308725            6     0          0          0   \n",
      "9325  2017-12-17   91.583669            6     0          0          0   \n",
      "9326  2017-12-18   78.461488            6     0          0          0   \n",
      "9327  2017-12-19   67.809443            6     0          0          0   \n",
      "9328  2017-12-20   65.266468            6     0          0          0   \n",
      "9329  2017-12-21   87.471228            6     0          0          0   \n",
      "9330  2017-12-22   71.911652            6     0          0          0   \n",
      "9331  2017-12-23   84.062223            6     0          0          0   \n",
      "9332  2017-12-24   60.981969            6     0          0          0   \n",
      "9333  2017-12-27   34.972644            6     0          0          0   \n",
      "\n",
      "      Konditorei  Kuchen  Saisonbrot  \n",
      "9324           0       0           1  \n",
      "9325           0       0           1  \n",
      "9326           0       0           1  \n",
      "9327           0       0           1  \n",
      "9328           0       0           1  \n",
      "9329           0       0           1  \n",
      "9330           0       0           1  \n",
      "9331           0       0           1  \n",
      "9332           0       0           1  \n",
      "9333           0       0           1  \n",
      "2018-07-31\n",
      "2013-07-01\n",
      "1819\n",
      "Datum\n",
      " 1.0       9120\n",
      " 2.0        147\n",
      " 3.0         51\n",
      "-1856.0       4\n",
      " 6.0          2\n",
      " 4.0          2\n",
      " 5.0          2\n",
      "-1741.0       1\n",
      " 295.0        1\n",
      " 300.0        1\n",
      " 308.0        1\n",
      " 305.0        1\n",
      "Name: count, dtype: int64\n",
      "7515\n"
     ]
    }
   ],
   "source": [
    "# check descriptive statistics of df_umsatz_warengruppe also NA values)\n",
    "# print(df_umsatz_warengruppe.describe())\n",
    "# print(df_umsatz_warengruppe.isna().sum())\n",
    "\n",
    "\n",
    "# prüfen ob die Warengruppen korrekt zugeordnet wurden\n",
    "print(df_umsatz_warengruppe.head(10))\n",
    "print(df_umsatz_warengruppe.tail(10))\n",
    "\n",
    "# gib mir dsas maximum und das minimum der Spalte Datum\n",
    "print(df_umsatz_warengruppe['Datum'].max())\n",
    "print(df_umsatz_warengruppe['Datum'].min())\n",
    "\n"
   ]
  },
  {
   "cell_type": "code",
   "execution_count": null,
   "metadata": {},
   "outputs": [
    {
     "name": "stdout",
     "output_type": "stream",
     "text": [
      "1856\n",
      "9334\n"
     ]
    }
   ],
   "source": [
    "# prüfe: Gibt es Tage zwischen dem ersten Tag im Datensatz und dem letzten Tag ohne Nennung im Dataframe?\n",
    "# berechne hierzu die differenz zwischen minimum und maximum und vergleiche das mit der Anzahl an distinct(Datum) im Dataframe\n",
    "print(df_umsatz_warengruppe['Datum'].nunique())\n",
    "print((pd.to_datetime(df_umsatz_warengruppe['Datum'].max()) - pd.to_datetime(df_umsatz_warengruppe['Datum'].min())).days + 1)\n",
    "\n",
    "\n",
    "\n",
    "\n",
    "\n",
    "# Fehlen Tage dazwischen? \n",
    "# df_umsatz_warengruppe['Datum'] = pd.to_datetime(df_umsatz_warengruppe['Datum'])\n",
    "# print(df_umsatz_warengruppe['Datum'].diff().dt.days.value_counts())\n",
    "\n",
    "# # Gibt es Tage doppelt?\n",
    "# print(df_umsatz_warengruppe['Datum'].duplicated().sum())"
   ]
  }
 ],
 "metadata": {
  "kernelspec": {
   "display_name": "Python 3",
   "language": "python",
   "name": "python3"
  },
  "language_info": {
   "codemirror_mode": {
    "name": "ipython",
    "version": 3
   },
   "file_extension": ".py",
   "mimetype": "text/x-python",
   "name": "python",
   "nbconvert_exporter": "python",
   "pygments_lexer": "ipython3",
   "version": "3.12.1"
  }
 },
 "nbformat": 4,
 "nbformat_minor": 2
}
