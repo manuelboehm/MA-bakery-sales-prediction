{
 "cells": [
  {
   "cell_type": "markdown",
   "metadata": {},
   "source": [
    "## Data Prep Umsatz & Warengruppe"
   ]
  },
  {
   "cell_type": "code",
   "execution_count": null,
   "metadata": {},
   "outputs": [],
   "source": [
    "import pandas as pd\n",
    "\n",
    "# Laden der Daten\n",
    "df_umsatz = pd.read_csv('../_data_raw/df_umsatz.csv')\n",
    "\n",
    "# Mapping der Warengruppe-Codes zu den entsprechenden Spalten\n",
    "warengruppe_mapping = {\n",
    "    1: 'Brot',\n",
    "    2: 'Broetchen',\n",
    "    3: 'Croissant',\n",
    "    4: 'Konditorei',\n",
    "    5: 'Kuchen',\n",
    "    6: 'Saisonbrot'\n",
    "}\n",
    "\n",
    "# Initialisieren des DataFrames für df_umsatz_warengruppe\n",
    "df_umsatz_warengruppe = pd.DataFrame({\n",
    "    'Datum': df_umsatz['Datum'],\n",
    "    'Umsatz': df_umsatz['Umsatz'],\n",
    "    'Brot': 0,\n",
    "    'Broetchen': 0,\n",
    "    'Croissant': 0,\n",
    "    'Konditorei': 0,\n",
    "    'Kuchen': 0,\n",
    "    'Saisonbrot': 0,\n",
    "    'Warengruppe': df_umsatz['Warengruppe']\n",
    "})\n",
    "\n",
    "# Setzen der entsprechenden Spalte basierend auf der Warengruppe\n",
    "for code, column in warengruppe_mapping.items():\n",
    "    df_umsatz_warengruppe.loc[df_umsatz_warengruppe['Warengruppe'] == code, column] = 1\n",
    "\n",
    "# Neuordnung der Spalten\n",
    "df_umsatz_warengruppe = df_umsatz_warengruppe[['Datum', 'Umsatz', 'Warengruppe', 'Brot', 'Broetchen', 'Croissant', 'Konditorei', 'Kuchen', 'Saisonbrot']]\n",
    "\n",
    "# Speichern der bereinigten Daten\n",
    "df_umsatz_warengruppe.to_csv('../_Variables_cleaned/df_umsatz_warengruppe.csv', index=False)"
   ]
  }
 ],
 "metadata": {
  "kernelspec": {
   "display_name": "Python 3",
   "language": "python",
   "name": "python3"
  },
  "language_info": {
   "codemirror_mode": {
    "name": "ipython",
    "version": 3
   },
   "file_extension": ".py",
   "mimetype": "text/x-python",
   "name": "python",
   "nbconvert_exporter": "python",
   "pygments_lexer": "ipython3",
   "version": "3.12.1"
  }
 },
 "nbformat": 4,
 "nbformat_minor": 2
}
