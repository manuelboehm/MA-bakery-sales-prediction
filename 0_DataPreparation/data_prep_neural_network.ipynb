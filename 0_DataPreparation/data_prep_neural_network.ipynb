{
 "cells": [
  {
   "cell_type": "markdown",
   "metadata": {},
   "source": [
    "# Prepare dataframes for neural network\n",
    "## remove columns which don't contain features "
   ]
  },
  {
   "cell_type": "code",
   "execution_count": 7,
   "metadata": {},
   "outputs": [],
   "source": [
    "# import df_training, df_validation, df_test\n",
    "import pandas as pd\n",
    "\n",
    "df_training = pd.read_csv('../_data_prepared/df_training.csv')\n",
    "df_validation = pd.read_csv('../_data_prepared/df_validation.csv')\n",
    "df_test = pd.read_csv('../_data_prepared/df_test.csv')\n",
    "\n",
    "# show first 5 rows of df_training, df_validation, df_test\n",
    "# print(df_training.head())\n",
    "# print(df_validation.head())\n",
    "# print(df_test.head())\n"
   ]
  },
  {
   "cell_type": "code",
   "execution_count": 9,
   "metadata": {},
   "outputs": [],
   "source": [
    "# remove specified columns from df_training, df_validation, df_test\n",
    "# specify list of columns to drop (columns Datum, Warengruppe, Bewoelkung, Temperatur, Windgeschwindigkeit, Monat, Wettercode_cat)\n",
    "columns_to_drop = ['Datum', 'Warengruppe', 'Bewoelkung', 'Temperatur', 'Windgeschwindigkeit', 'Monat', 'Wettercode_cat','Wettercode', 'Wettercode_cat_condensed']\n",
    "\n",
    "# get columns that begin with 'bewoelkt_' or 'wind_'\n",
    "columns_to_drop_bewoelkung_wind = [col for col in df_training.columns if col.startswith('bewoelkt_') or col.startswith('wind_')]\n",
    "columns_to_drop_Wettercode = [col for col in df_training.columns if col.startswith('Wettercode_')] \n",
    "\n",
    "# add columns from columns_to_drop_bewoelkung_wind to list columns_to_drop\n",
    "columns_to_drop += columns_to_drop_bewoelkung_wind\n",
    "columns_to_drop += columns_to_drop_Wettercode\n",
    "\n",
    "# check if each of the columns is available and remove them if they are\n",
    "df_training_ = df_training.drop(columns=[col for col in columns_to_drop if col in df_training.columns])\n",
    "df_validation_ = df_validation.drop(columns=[col for col in columns_to_drop if col in df_validation.columns])\n",
    "df_test_ = df_test.drop(columns=[col for col in columns_to_drop if col in df_test.columns])\n",
    "\n",
    "# save df_training, df_validation, df_test to csv\n",
    "df_training_.to_csv('../_data_prepared/df_training_neural_network.csv', index=False)\n",
    "df_validation_.to_csv('../_data_prepared/df_validation_neural_network.csv', index=False)\n",
    "df_test_.to_csv('../_data_prepared/df_test_neural_network.csv', index=False)\n"
   ]
  }
 ],
 "metadata": {
  "kernelspec": {
   "display_name": "Python 3",
   "language": "python",
   "name": "python3"
  },
  "language_info": {
   "codemirror_mode": {
    "name": "ipython",
    "version": 3
   },
   "file_extension": ".py",
   "mimetype": "text/x-python",
   "name": "python",
   "nbconvert_exporter": "python",
   "pygments_lexer": "ipython3",
   "version": "3.12.1"
  }
 },
 "nbformat": 4,
 "nbformat_minor": 2
}
