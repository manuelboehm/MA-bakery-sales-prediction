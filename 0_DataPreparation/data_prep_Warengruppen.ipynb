{
 "cells": [
  {
   "cell_type": "markdown",
   "metadata": {},
   "source": [
    "Data Prep Warengruppen as dummies"
   ]
  },
  {
   "cell_type": "code",
   "execution_count": 5,
   "metadata": {},
   "outputs": [
    {
     "name": "stdout",
     "output_type": "stream",
     "text": [
      "        Datum  Warengruppe      Umsatz  KielerWoche  Bewoelkung  Temperatur  \\\n",
      "0  2013-07-01            1  148.828353          NaN         6.0     17.8375   \n",
      "1  2013-07-02            1  159.793757          NaN         3.0     17.3125   \n",
      "2  2013-07-03            1  111.885594          NaN         7.0     21.0750   \n",
      "3  2013-07-04            1  168.864941          NaN         7.0     18.8500   \n",
      "4  2013-07-05            1  171.280754          NaN         5.0     19.9750   \n",
      "\n",
      "   Windgeschwindigkeit  Wettercode  Wochentag_Mo  Wochentag_Di  ...  \\\n",
      "0                 15.0        20.0             1             0  ...   \n",
      "1                 10.0         NaN             0             1  ...   \n",
      "2                  6.0        61.0             0             0  ...   \n",
      "3                  7.0        20.0             0             0  ...   \n",
      "4                 12.0         NaN             0             0  ...   \n",
      "\n",
      "   national_holiday  christmas_market  maritime_conference  nordic_film_days  \\\n",
      "0                 0                 0                    0                 0   \n",
      "1                 0                 0                    0                 0   \n",
      "2                 0                 0                    0                 0   \n",
      "3                 0                 0                    0                 0   \n",
      "4                 0                 0                    0                 0   \n",
      "\n",
      "   Brot  Broetchen  Croissant  Konditorei  Kuchen  Saisonbrot  \n",
      "0     1          0          0           0       0           0  \n",
      "1     1          0          0           0       0           0  \n",
      "2     1          0          0           0       0           0  \n",
      "3     1          0          0           0       0           0  \n",
      "4     1          0          0           0       0           0  \n",
      "\n",
      "[5 rows x 25 columns]\n"
     ]
    }
   ],
   "source": [
    "import pandas as pd\n",
    "\n",
    "# Read the CSV file\n",
    "df = pd.read_csv(\"/workspaces/MA-bakery-sales-prediction/0_DataPreparation/df_Warengruppe as dummie.csv\")\n",
    "print(df.head())"
   ]
  },
  {
   "cell_type": "code",
   "execution_count": 6,
   "metadata": {},
   "outputs": [
    {
     "name": "stdout",
     "output_type": "stream",
     "text": [
      "        Datum      Umsatz  Brot  Broetchen  Croissant  Konditorei  Kuchen  \\\n",
      "0  2013-07-01  148.828353     1          0          0           0       0   \n",
      "1  2013-07-02  159.793757     1          0          0           0       0   \n",
      "2  2013-07-03  111.885594     1          0          0           0       0   \n",
      "3  2013-07-04  168.864941     1          0          0           0       0   \n",
      "4  2013-07-05  171.280754     1          0          0           0       0   \n",
      "\n",
      "   Saisonbrot  \n",
      "0           0  \n",
      "1           0  \n",
      "2           0  \n",
      "3           0  \n",
      "4           0  \n"
     ]
    }
   ],
   "source": [
    "# Select the desired columns\n",
    "selected_columns = ['Datum', 'Umsatz', 'Brot', 'Broetchen', 'Croissant', 'Konditorei', 'Kuchen', 'Saisonbrot']\n",
    "df_selected = df[selected_columns]\n",
    "\n",
    "# Save the new DataFrame as a CSV\n",
    "df_selected.to_csv(\"/workspaces/MA-bakery-sales-prediction/0_DataPreparation/df_selected_columns.csv\", index=False)\n",
    "\n",
    "# Optional: Display the first few rows to verify\n",
    "print(df_selected.head())"
   ]
  },
  {
   "cell_type": "code",
   "execution_count": 7,
   "metadata": {},
   "outputs": [
    {
     "name": "stdout",
     "output_type": "stream",
     "text": [
      "        Datum      Umsatz  Brot  Broetchen  Croissant  Konditorei  Kuchen  \\\n",
      "0  2013-07-01  148.828353     1          0          0           0       0   \n",
      "1  2013-07-02  159.793757     1          0          0           0       0   \n",
      "2  2013-07-03  111.885594     1          0          0           0       0   \n",
      "3  2013-07-04  168.864941     1          0          0           0       0   \n",
      "4  2013-07-05  171.280754     1          0          0           0       0   \n",
      "\n",
      "   Saisonbrot  \n",
      "0           0  \n",
      "1           0  \n",
      "2           0  \n",
      "3           0  \n",
      "4           0  \n"
     ]
    }
   ],
   "source": [
    "# Select the desired columns\n",
    "selected_columns = ['Datum', 'Umsatz', 'Brot', 'Broetchen', 'Croissant', 'Konditorei', 'Kuchen', 'Saisonbrot']\n",
    "df_selected = df[selected_columns]\n",
    "\n",
    "# Save the new DataFrame as a CSV\n",
    "df_selected.to_csv(\"/workspaces/MA-bakery-sales-prediction/_Variables_cleaned/Warengruppe_dummies.csv\", index=False)\n",
    "\n",
    "# Optional: Display the first few rows to verify\n",
    "print(df_selected.head())"
   ]
  }
 ],
 "metadata": {
  "kernelspec": {
   "display_name": "Python 3",
   "language": "python",
   "name": "python3"
  },
  "language_info": {
   "codemirror_mode": {
    "name": "ipython",
    "version": 3
   },
   "file_extension": ".py",
   "mimetype": "text/x-python",
   "name": "python",
   "nbconvert_exporter": "python",
   "pygments_lexer": "ipython3",
   "version": "3.12.1"
  }
 },
 "nbformat": 4,
 "nbformat_minor": 2
}
