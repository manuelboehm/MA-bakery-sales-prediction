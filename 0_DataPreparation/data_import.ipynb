{
 "cells": [
  {
   "cell_type": "markdown",
   "metadata": {},
   "source": [
    "# Import Dataframes"
   ]
  },
  {
   "cell_type": "code",
   "execution_count": null,
   "metadata": {},
   "outputs": [],
   "source": [
    "# import data from \"https://raw.githubusercontent.com/opencampus-sh/einfuehrung-in-data-science-und-ml/main/\" (umsatz_gekuerzt.csv, kiwo.csv, wetter.csv) and save as .csv\n",
    "import pandas as pd\n",
    "\n",
    "# import data\n",
    "url = \"https://raw.githubusercontent.com/opencampus-sh/einfuehrung-in-data-science-und-ml/main/\"\n",
    "df_umsatz = pd.read_csv(url + \"umsatzdaten_gekuerzt.csv\")\n",
    "df_kiwo = pd.read_csv(url + \"kiwo.csv\")\n",
    "df_wetter = pd.read_csv(url + \"wetter.csv\")\n",
    "\n",
    "# save data as .csv\n",
    "df_umsatz.to_csv(\"df_umsatz.csv\", index=False)\n",
    "df_kiwo.to_csv(\"df_kiwo.csv\", index=False)\n",
    "df_wetter.to_csv(\"df_wetter.csv\", index=False)"
   ]
  }
 ],
 "metadata": {
  "kernelspec": {
   "display_name": "Python 3",
   "language": "python",
   "name": "python3"
  },
  "language_info": {
   "codemirror_mode": {
    "name": "ipython",
    "version": 3
   },
   "file_extension": ".py",
   "mimetype": "text/x-python",
   "name": "python",
   "nbconvert_exporter": "python",
   "pygments_lexer": "ipython3",
   "version": "3.12.1"
  }
 },
 "nbformat": 4,
 "nbformat_minor": 2
}
