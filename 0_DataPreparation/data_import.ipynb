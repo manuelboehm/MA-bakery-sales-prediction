{
 "cells": [
  {
   "cell_type": "markdown",
   "metadata": {},
   "source": [
    "# Import Dataframes"
   ]
  },
  {
   "cell_type": "code",
   "execution_count": 2,
   "metadata": {},
   "outputs": [],
   "source": [
    "# import data from \"https://raw.githubusercontent.com/opencampus-sh/einfuehrung-in-data-science-und-ml/main/\" (umsatz_gekuerzt.csv, kiwo.csv, wetter.csv) and save as .csv\n",
    "import pandas as pd\n",
    "\n",
    "# import data\n",
    "url = \"https://raw.githubusercontent.com/opencampus-sh/einfuehrung-in-data-science-und-ml/main/\"\n",
    "df_umsatz = pd.read_csv(url + \"umsatzdaten_gekuerzt.csv\")\n",
    "df_kiwo = pd.read_csv(url + \"kiwo.csv\")\n",
    "df_wetter = pd.read_csv(url + \"wetter.csv\")\n",
    "\n",
    "# save data as .csv\n",
    "df_umsatz.to_csv(\"df_umsatz.csv\", index=False)\n",
    "df_kiwo.to_csv(\"df_kiwo.csv\", index=False)\n",
    "df_wetter.to_csv(\"df_wetter.csv\", index=False)"
   ]
  },
  {
   "cell_type": "markdown",
   "metadata": {},
   "source": [
    "# Dataframes mergen"
   ]
  },
  {
   "cell_type": "code",
   "execution_count": 3,
   "metadata": {},
   "outputs": [
    {
     "name": "stdout",
     "output_type": "stream",
     "text": [
      "        Datum  Warengruppe      Umsatz  KielerWoche  Bewoelkung  Temperatur  \\\n",
      "0  2013-07-01            1  148.828353          NaN         6.0     17.8375   \n",
      "1  2013-07-02            1  159.793757          NaN         3.0     17.3125   \n",
      "2  2013-07-03            1  111.885594          NaN         7.0     21.0750   \n",
      "3  2013-07-04            1  168.864941          NaN         7.0     18.8500   \n",
      "4  2013-07-05            1  171.280754          NaN         5.0     19.9750   \n",
      "\n",
      "   Windgeschwindigkeit  Wettercode  \n",
      "0                 15.0        20.0  \n",
      "1                 10.0         NaN  \n",
      "2                  6.0        61.0  \n",
      "3                  7.0        20.0  \n",
      "4                 12.0         NaN  \n",
      "Index(['Datum', 'Warengruppe', 'Umsatz', 'KielerWoche', 'Bewoelkung',\n",
      "       'Temperatur', 'Windgeschwindigkeit', 'Wettercode'],\n",
      "      dtype='object')\n"
     ]
    }
   ],
   "source": [
    "import pandas as pd\n",
    "# Mergen: Umsatzdaten mit Kieler Woche (Left Join)\n",
    "merged_df = df_umsatz.merge(df_kiwo, on='Datum', how='left')\n",
    "# Mergen: Das Ergebnis mit Wetterdaten (Left Join)\n",
    "merged_df = merged_df.merge(df_wetter, on='Datum', how='left')\n",
    "# Ergebnis anzeigen\n",
    "print(merged_df.head())\n",
    "# Anzeigen der Spaltennamen (Variablen) im gemergten DataFrame\n",
    "print(merged_df.columns)"
   ]
  }
 ],
 "metadata": {
  "kernelspec": {
   "display_name": "Python 3",
   "language": "python",
   "name": "python3"
  },
  "language_info": {
   "codemirror_mode": {
    "name": "ipython",
    "version": 3
   },
   "file_extension": ".py",
   "mimetype": "text/x-python",
   "name": "python",
   "nbconvert_exporter": "python",
   "pygments_lexer": "ipython3",
   "version": "3.12.1"
  }
 },
 "nbformat": 4,
 "nbformat_minor": 2
}
