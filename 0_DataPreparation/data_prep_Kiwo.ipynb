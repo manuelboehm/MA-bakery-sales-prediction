{
 "cells": [
  {
   "cell_type": "markdown",
   "metadata": {},
   "source": [
    "# Data prep Kiwo"
   ]
  },
  {
   "cell_type": "code",
   "execution_count": 3,
   "metadata": {},
   "outputs": [
    {
     "name": "stderr",
     "output_type": "stream",
     "text": [
      "/tmp/ipykernel_38255/1476748399.py:21: FutureWarning: A value is trying to be set on a copy of a DataFrame or Series through chained assignment using an inplace method.\n",
      "The behavior will change in pandas 3.0. This inplace method will never work because the intermediate object on which we are setting values always behaves as a copy.\n",
      "\n",
      "For example, when doing 'df[col].method(value, inplace=True)', try using 'df.method({col: value}, inplace=True)' or df[col] = df[col].method(value) instead, to perform the operation inplace on the original object.\n",
      "\n",
      "\n",
      "  merged_df['KielerWoche'].fillna(0, inplace=True)\n"
     ]
    }
   ],
   "source": [
    "import pandas as pd\n",
    "\n",
    "# Einlesen der CSV-Datei\n",
    "df = pd.read_csv('../_data_raw/df_kiwo.csv')\n",
    "\n",
    "# Konvertiere die Datum-Spalte in ein Datetime-Format\n",
    "df['Datum'] = pd.to_datetime(df['Datum'])\n",
    "\n",
    "# Erstelle eine vollständige Datumsreihe von min bis max Datum\n",
    "full_date_range = pd.date_range(start=df['Datum'].min(), end=df['Datum'].max())\n",
    "# Erweitere die vollständige Datumsreihe bis zum 31.07.2019\n",
    "full_date_range = pd.date_range(start=df['Datum'].min(), end='2019-07-31')\n",
    "\n",
    "# Erstelle einen neuen DataFrame mit der vollständigen Datumsreihe\n",
    "full_df = pd.DataFrame(full_date_range, columns=['Datum'])\n",
    "\n",
    "# Merge den ursprünglichen DataFrame mit dem vollständigen DataFrame\n",
    "merged_df = pd.merge(full_df, df, on='Datum', how='left')\n",
    "\n",
    "# Ersetze missing values in der Spalte 'KielerWoche' mit 0\n",
    "merged_df['KielerWoche'].fillna(0, inplace=True)\n",
    "\n",
    "# Speichern des bereinigten DataFrames in eine neue CSV-Datei\n",
    "merged_df.to_csv('../_Variables_cleaned/df_kiwo.csv', index=False)"
   ]
  }
 ],
 "metadata": {
  "kernelspec": {
   "display_name": "Python 3",
   "language": "python",
   "name": "python3"
  },
  "language_info": {
   "codemirror_mode": {
    "name": "ipython",
    "version": 3
   },
   "file_extension": ".py",
   "mimetype": "text/x-python",
   "name": "python",
   "nbconvert_exporter": "python",
   "pygments_lexer": "ipython3",
   "version": "3.12.1"
  }
 },
 "nbformat": 4,
 "nbformat_minor": 2
}
