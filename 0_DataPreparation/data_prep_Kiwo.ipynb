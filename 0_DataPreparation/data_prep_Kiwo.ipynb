{
 "cells": [
  {
   "cell_type": "markdown",
   "metadata": {},
   "source": [
    "# Data prep Kiwo"
   ]
  },
  {
   "cell_type": "code",
   "execution_count": 4,
   "metadata": {},
   "outputs": [
    {
     "name": "stdout",
     "output_type": "stream",
     "text": [
      "Der neue Datensatz wurde gespeichert: df_kiwo.csv\n"
     ]
    }
   ],
   "source": [
    "# Datensatz nur mit Kiwo\n",
    "\n",
    "import pandas as pd\n",
    "\n",
    "# Originalen Datensatz laden\n",
    "df = pd.read_csv('df_merged_umsatz_kiwo01_wetter_wochentage.csv')\n",
    "\n",
    "# Neuen Datensatz mit den gewünschten Spalten erstellen\n",
    "df_kiwo = df[['Datum', 'KielerWoche']]\n",
    "\n",
    "# Neuen Datensatz speichern\n",
    "df_kiwo.to_csv('../_Variables_cleaned/df_kiwo.csv', index=False)\n",
    "\n",
    "print(\"Der neue Datensatz wurde gespeichert: df_kiwo.csv\")\n"
   ]
  }
 ],
 "metadata": {
  "kernelspec": {
   "display_name": "Python 3",
   "language": "python",
   "name": "python3"
  },
  "language_info": {
   "codemirror_mode": {
    "name": "ipython",
    "version": 3
   },
   "file_extension": ".py",
   "mimetype": "text/x-python",
   "name": "python",
   "nbconvert_exporter": "python",
   "pygments_lexer": "ipython3",
   "version": "3.12.1"
  }
 },
 "nbformat": 4,
 "nbformat_minor": 2
}
