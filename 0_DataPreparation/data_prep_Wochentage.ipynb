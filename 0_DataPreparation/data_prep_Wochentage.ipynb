{
 "cells": [
  {
   "cell_type": "markdown",
   "metadata": {},
   "source": [
    "#  Data Prep Wochentage"
   ]
  },
  {
   "cell_type": "code",
   "execution_count": 1,
   "metadata": {},
   "outputs": [
    {
     "name": "stdout",
     "output_type": "stream",
     "text": [
      "Der neue Datensatz wurde gespeichert: df_wochentage.csv\n"
     ]
    }
   ],
   "source": [
    "import pandas as pd\n",
    "\n",
    "# Originalen Datensatz laden\n",
    "df = pd.read_csv('df_merged_umsatz_kiwo_wetter_wochentage.csv')\n",
    "\n",
    "# Spalten 'Datum' und die Wochentagsinformationen extrahieren\n",
    "df_wochentage = df[['Datum', 'Wochentag_Mo', 'Wochentag_Di', 'Wochentag_Mi', 'Wochentag_Do', 'Wochentag_Fr', 'Wochentag_Sa', 'Wochentag_So']]\n",
    "\n",
    "# Neuen Datensatz speichern\n",
    "df_wochentage.to_csv('../_Variables_cleaned/df_wochentage.csv', index=False)\n",
    "\n",
    "print(\"Der neue Datensatz wurde gespeichert: df_wochentage.csv\")\n"
   ]
  }
 ],
 "metadata": {
  "kernelspec": {
   "display_name": "Python 3",
   "language": "python",
   "name": "python3"
  },
  "language_info": {
   "codemirror_mode": {
    "name": "ipython",
    "version": 3
   },
   "file_extension": ".py",
   "mimetype": "text/x-python",
   "name": "python",
   "nbconvert_exporter": "python",
   "pygments_lexer": "ipython3",
   "version": "3.12.1"
  }
 },
 "nbformat": 4,
 "nbformat_minor": 2
}
