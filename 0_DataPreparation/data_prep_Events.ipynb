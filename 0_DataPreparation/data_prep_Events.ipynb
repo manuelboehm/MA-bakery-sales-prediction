{
 "cells": [
  {
   "cell_type": "markdown",
   "metadata": {},
   "source": [
    "# Data prep Events"
   ]
  },
  {
   "cell_type": "code",
   "execution_count": 4,
   "metadata": {},
   "outputs": [],
   "source": [
    "import pandas as pd\n",
    "\n",
    "# Lade den existierenden Datensatz\n",
    "df = pd.read_csv('../_data_raw/df_kiel_events.csv')\n",
    "\n",
    "# Konvertiere die Spalte 'date' in ein korrektes Datetime-Format\n",
    "df['date'] = pd.to_datetime(df['date'], format='%d.%m.%Y')\n",
    "\n",
    "# Entferne die Spalten 'maritime' und 'nordic_film_days', falls sie existieren\n",
    "columns_to_drop = ['maritime_conference', 'nordic_film_days']\n",
    "df = df.drop(columns=[col for col in columns_to_drop if col in df.columns], errors='ignore')\n",
    "\n",
    "# Finde das letzte Datum im aktuellen Datensatz\n",
    "end_date_current = df['date'].max()\n",
    "\n",
    "# Generiere Datumsbereich bis 30.07.2019\n",
    "new_dates = pd.date_range(start=end_date_current + pd.Timedelta(days=1), end='2019-07-30')\n",
    "\n",
    "# Feiertage speziell für Schleswig-Holstein 2018\n",
    "sh_holidays_2018 = [\n",
    "    '2018-01-01',   # Neujahr\n",
    "    '2018-03-30',   # Karfreitag\n",
    "    '2018-04-01',   # Ostersonntag\n",
    "    '2018-04-02',   # Ostermontag\n",
    "    '2018-05-01',   # Tag der Arbeit\n",
    "    '2018-05-10',   # Christi Himmelfahrt\n",
    "    '2018-05-21',   # Pfingstmontag\n",
    "    '2018-06-06',   # Fronleichnam\n",
    "    '2018-10-03',   # Tag der Deutschen Einheit\n",
    "    '2018-11-01',   # Reformationstag (in Schleswig-Holstein ein Feiertag)\n",
    "    '2018-12-25',   # 1. Weihnachtsfeiertag\n",
    "    '2018-12-26'    # 2. Weihnachtsfeiertag\n",
    "]\n",
    "\n",
    "sh_holidays_2019 = [\n",
    "    '2019-01-01',   # Neujahr\n",
    "    '2019-04-19',   # Karfreitag\n",
    "    '2019-04-21',   # Ostersonntag\n",
    "    '2019-04-22',   # Ostermontag\n",
    "    '2019-05-01',   # Tag der Arbeit\n",
    "    '2019-05-30',   # Christi Himmelfahrt\n",
    "    '2019-06-10',   # Pfingstmontag\n",
    "]\n",
    "\n",
    "# Combine both lists\n",
    "sh_holidays_2018.extend(sh_holidays_2019)\n",
    "\n",
    "# Neues DataFrame mit zusätzlichen Daten erstellen\n",
    "new_data = pd.DataFrame({\n",
    "    'date': new_dates,\n",
    "    'national_holiday': [1 if str(d.date()) in sh_holidays_2018 else 0 for d in new_dates],\n",
    "    'christmas_market': [0] * len(new_dates)  # Setze 'christmas_market' auf 0\n",
    "})\n",
    "\n",
    "# Zusammenfügen der neuen Daten mit dem existierenden Datensatz\n",
    "df_extended = pd.concat([df, new_data], ignore_index=True)\n",
    "\n",
    "# rename column date into Datum in new_data\n",
    "df_extended.rename(columns={'date': 'Datum'}, inplace=True)\n",
    "\n",
    "df_extended['Datum'] = pd.to_datetime(df_extended['Datum'], format='%d.%m.%Y').dt.strftime('%Y-%m-%d')\n",
    "\n",
    "\n",
    "# Speichere den erweiterten Datensatz\n",
    "df_extended.to_csv('../_Variables_cleaned/df_kiel_events.csv', index=False, date_format='%d.%m.%Y')\n",
    "\n"
   ]
  }
 ],
 "metadata": {
  "kernelspec": {
   "display_name": "Python 3",
   "language": "python",
   "name": "python3"
  },
  "language_info": {
   "codemirror_mode": {
    "name": "ipython",
    "version": 3
   },
   "file_extension": ".py",
   "mimetype": "text/x-python",
   "name": "python",
   "nbconvert_exporter": "python",
   "pygments_lexer": "ipython3",
   "version": "3.12.1"
  }
 },
 "nbformat": 4,
 "nbformat_minor": 2
}
