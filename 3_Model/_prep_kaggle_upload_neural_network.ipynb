{
 "cells": [
  {
   "cell_type": "markdown",
   "metadata": {},
   "source": [
    "# Prepare neural network data for kaggle upload"
   ]
  },
  {
   "cell_type": "code",
   "execution_count": null,
   "metadata": {},
   "outputs": [],
   "source": [
    "# load df_test as a dataframe\n",
    "import pandas as pd\n",
    "\n",
    "df = pd.read_csv('../_data_prepared/df_predictions_neuralNetwork.csv')\n",
    "df.head()\n",
    "\n",
    "# ersetze alle NaN Werte in column Umsatz durch 0\n",
    "df['Umsatz'] = df['Umsatz'].fillna(0)\n",
    "df.head()\n",
    "\n",
    "# delete all columns except for Umsatz and id\n",
    "kaggle_upload = df[['id', 'Umsatz']]\n",
    "kaggle_upload.head()\n",
    "\n",
    "#  save the dataframe as df_prediction.csv\n",
    "kaggle_upload.to_csv('../_data_prepared/df_kaggle_upload_neuralNetwork.csv', index=False)\n"
   ]
  }
 ],
 "metadata": {
  "language_info": {
   "name": "python"
  }
 },
 "nbformat": 4,
 "nbformat_minor": 2
}
