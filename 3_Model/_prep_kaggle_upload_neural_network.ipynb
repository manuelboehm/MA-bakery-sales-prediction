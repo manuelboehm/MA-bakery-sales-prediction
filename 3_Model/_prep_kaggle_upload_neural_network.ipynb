{
 "cells": [
  {
   "cell_type": "markdown",
   "metadata": {},
   "source": [
    "# Prepare neural network data for kaggle upload"
   ]
  },
  {
   "cell_type": "code",
   "execution_count": 1,
   "metadata": {},
   "outputs": [],
   "source": [
    "# load df_test as a dataframe\n",
    "import pandas as pd\n",
    "\n",
    "df = pd.read_csv('../_data_prepared/df_predictions_neuralNetwork.csv')\n",
    "df.head()\n",
    "\n",
    "# ersetze alle NaN Werte in column Umsatz durch 0\n",
    "df['Umsatz'] = df['Umsatz'].fillna(0)\n",
    "df.head()\n",
    "\n",
    "# delete all columns except for Umsatz and id\n",
    "kaggle_upload = df[['id', 'Umsatz']]\n",
    "kaggle_upload.head()\n",
    "\n",
    "#  save the dataframe as df_prediction.csv\n",
    "kaggle_upload.to_csv('../_data_prepared/df_kaggle_upload_neuralNetwork.csv', index=False)\n"
   ]
  }
 ],
 "metadata": {
  "kernelspec": {
   "display_name": "Python 3",
   "language": "python",
   "name": "python3"
  },
  "language_info": {
   "codemirror_mode": {
    "name": "ipython",
    "version": 3
   },
   "file_extension": ".py",
   "mimetype": "text/x-python",
   "name": "python",
   "nbconvert_exporter": "python",
   "pygments_lexer": "ipython3",
   "version": "3.12.1"
  }
 },
 "nbformat": 4,
 "nbformat_minor": 2
}
